{
 "cells": [
  {
   "cell_type": "code",
   "execution_count": 2,
   "id": "fae41562-9b0b-49fc-aad0-205c1e838a8f",
   "metadata": {},
   "outputs": [],
   "source": [
    "import pandas as pd\n",
    "import geopandas as gpd\n",
    "import numpy as np\n",
    "\n",
    "import matplotlib.pyplot as plt\n",
    "import seaborn as sns\n",
    "\n",
    "from sklearn.preprocessing import OneHotEncoder\n",
    "from sklearn.preprocessing import StandardScaler\n",
    "from sklearn.model_selection import train_test_split\n",
    "from sklearn.linear_model import Ridge\n",
    "from sklearn.metrics import mean_squared_error\n",
    "from sklearn.metrics import mean_absolute_percentage_error\n",
    "\n",
    "# import warnings\n",
    "# warnings.filterwarnings('ignore')\n",
    "pd.set_option('display.max_columns', 200)"
   ]
  },
  {
   "cell_type": "markdown",
   "id": "ae4e452d-746b-4315-b990-b7cebf5480cf",
   "metadata": {},
   "source": [
    "## Подготовка данных"
   ]
  },
  {
   "cell_type": "code",
   "execution_count": 50,
   "id": "8acae2b8-79b6-4de7-9502-04821bf4bde7",
   "metadata": {},
   "outputs": [
    {
     "name": "stderr",
     "output_type": "stream",
     "text": [
      "/var/folders/8m/fpt3kb2n0ys89v3nl34fszrd2jtv8f/T/ipykernel_40780/4044311551.py:6: SettingWithCopyWarning: \n",
      "A value is trying to be set on a copy of a slice from a DataFrame\n",
      "\n",
      "See the caveats in the documentation: https://pandas.pydata.org/pandas-docs/stable/user_guide/indexing.html#returning-a-view-versus-a-copy\n",
      "  df['nearest_railway'][df['nearest_railway'].isna()] = df['nearest_railway'].max()\n",
      "/var/folders/8m/fpt3kb2n0ys89v3nl34fszrd2jtv8f/T/ipykernel_40780/4044311551.py:7: SettingWithCopyWarning: \n",
      "A value is trying to be set on a copy of a slice from a DataFrame\n",
      "\n",
      "See the caveats in the documentation: https://pandas.pydata.org/pandas-docs/stable/user_guide/indexing.html#returning-a-view-versus-a-copy\n",
      "  df['nearest_college'][df['nearest_college'].isna()] = df['nearest_college'].max()\n",
      "/var/folders/8m/fpt3kb2n0ys89v3nl34fszrd2jtv8f/T/ipykernel_40780/4044311551.py:8: SettingWithCopyWarning: \n",
      "A value is trying to be set on a copy of a slice from a DataFrame\n",
      "\n",
      "See the caveats in the documentation: https://pandas.pydata.org/pandas-docs/stable/user_guide/indexing.html#returning-a-view-versus-a-copy\n",
      "  df['nearest_office'][df['nearest_office'].isna()] = df['nearest_office'].max()\n",
      "/var/folders/8m/fpt3kb2n0ys89v3nl34fszrd2jtv8f/T/ipykernel_40780/4044311551.py:9: SettingWithCopyWarning: \n",
      "A value is trying to be set on a copy of a slice from a DataFrame\n",
      "\n",
      "See the caveats in the documentation: https://pandas.pydata.org/pandas-docs/stable/user_guide/indexing.html#returning-a-view-versus-a-copy\n",
      "  df['nearest_airport'][df['nearest_airport'].isna()] = df['nearest_airport'].max()\n",
      "/var/folders/8m/fpt3kb2n0ys89v3nl34fszrd2jtv8f/T/ipykernel_40780/4044311551.py:10: SettingWithCopyWarning: \n",
      "A value is trying to be set on a copy of a slice from a DataFrame\n",
      "\n",
      "See the caveats in the documentation: https://pandas.pydata.org/pandas-docs/stable/user_guide/indexing.html#returning-a-view-versus-a-copy\n",
      "  df['nearest_gov_building'][df['nearest_gov_building'].isna()] = df['nearest_gov_building'].max()\n",
      "/var/folders/8m/fpt3kb2n0ys89v3nl34fszrd2jtv8f/T/ipykernel_40780/4044311551.py:11: SettingWithCopyWarning: \n",
      "A value is trying to be set on a copy of a slice from a DataFrame\n",
      "\n",
      "See the caveats in the documentation: https://pandas.pydata.org/pandas-docs/stable/user_guide/indexing.html#returning-a-view-versus-a-copy\n",
      "  df['nearest_MFC'][df['nearest_MFC'].isna()] = df['nearest_MFC'].max()\n",
      "/var/folders/8m/fpt3kb2n0ys89v3nl34fszrd2jtv8f/T/ipykernel_40780/4044311551.py:12: SettingWithCopyWarning: \n",
      "A value is trying to be set on a copy of a slice from a DataFrame\n",
      "\n",
      "See the caveats in the documentation: https://pandas.pydata.org/pandas-docs/stable/user_guide/indexing.html#returning-a-view-versus-a-copy\n",
      "  df['nearest_subway'][df['nearest_subway'].isna()] = df['nearest_subway'].max()\n",
      "/var/folders/8m/fpt3kb2n0ys89v3nl34fszrd2jtv8f/T/ipykernel_40780/4044311551.py:13: SettingWithCopyWarning: \n",
      "A value is trying to be set on a copy of a slice from a DataFrame\n",
      "\n",
      "See the caveats in the documentation: https://pandas.pydata.org/pandas-docs/stable/user_guide/indexing.html#returning-a-view-versus-a-copy\n",
      "  df['nearest_neighbour_atm'][df['nearest_neighbour_atm'].isna()] = df['nearest_neighbour_atm'].max()\n"
     ]
    }
   ],
   "source": [
    "df_osm = pd.read_csv('../../checkpoint-2/train_test/enriched_data.csv')\n",
    "df_osm = df_osm.drop(columns = ['address','address_rus','geometry','utm'])\n",
    "df_ira = pd.read_csv('../features_new/Dist_Area_features/df_dist_united.csv')[['id','dist','area']]\n",
    "\n",
    "df = df_osm.merge(df_ira, on = ['id']).drop(columns = ['id'])\n",
    "df['nearest_railway'][df['nearest_railway'].isna()] = df['nearest_railway'].max()\n",
    "df['nearest_college'][df['nearest_college'].isna()] = df['nearest_college'].max()\n",
    "df['nearest_office'][df['nearest_office'].isna()] = df['nearest_office'].max()\n",
    "df['nearest_airport'][df['nearest_airport'].isna()] = df['nearest_airport'].max()\n",
    "df['nearest_gov_building'][df['nearest_gov_building'].isna()] = df['nearest_gov_building'].max()\n",
    "df['nearest_MFC'][df['nearest_MFC'].isna()] = df['nearest_MFC'].max()\n",
    "df['nearest_subway'][df['nearest_subway'].isna()] = df['nearest_subway'].max()\n",
    "df['nearest_neighbour_atm'][df['nearest_neighbour_atm'].isna()] = df['nearest_neighbour_atm'].max()\n",
    "\n",
    "\n",
    "# Данные с ohe с нормирокой \n",
    "# Данные без ohe с нормировкой\n",
    "# Данные с ohe без нормировки\n",
    "# Данные без ohe без нормировки "
   ]
  },
  {
   "cell_type": "code",
   "execution_count": 51,
   "id": "e8b0f7a8-2a24-4988-b4eb-dfadb0bf402e",
   "metadata": {},
   "outputs": [],
   "source": [
    "train = df[~df.target.isna()].reset_index(drop = True)\n",
    "test = df[df.target.isna()].drop(columns = ['target']).reset_index(drop = True)"
   ]
  },
  {
   "cell_type": "code",
   "execution_count": 52,
   "id": "aeeb4d29-2ca9-4627-8fb4-20de0809f5e4",
   "metadata": {},
   "outputs": [
    {
     "data": {
      "text/html": [
       "<div>\n",
       "<style scoped>\n",
       "    .dataframe tbody tr th:only-of-type {\n",
       "        vertical-align: middle;\n",
       "    }\n",
       "\n",
       "    .dataframe tbody tr th {\n",
       "        vertical-align: top;\n",
       "    }\n",
       "\n",
       "    .dataframe thead th {\n",
       "        text-align: right;\n",
       "    }\n",
       "</style>\n",
       "<table border=\"1\" class=\"dataframe\">\n",
       "  <thead>\n",
       "    <tr style=\"text-align: right;\">\n",
       "      <th></th>\n",
       "      <th>atm_group</th>\n",
       "      <th>lat</th>\n",
       "      <th>lon</th>\n",
       "      <th>target</th>\n",
       "      <th>fed_dist</th>\n",
       "      <th>region</th>\n",
       "      <th>nearest_bank</th>\n",
       "      <th>nearest_railway</th>\n",
       "      <th>nearest_food</th>\n",
       "      <th>nearest_hospital</th>\n",
       "      <th>nearest_atm</th>\n",
       "      <th>nearest_college</th>\n",
       "      <th>nearest_office</th>\n",
       "      <th>nearest_school</th>\n",
       "      <th>nearest_airport</th>\n",
       "      <th>nearest_gov_building</th>\n",
       "      <th>nearest_kgarden</th>\n",
       "      <th>nearest_MFC</th>\n",
       "      <th>nearest_subway</th>\n",
       "      <th>nearest_neighbour_atm</th>\n",
       "      <th>bank_in_500m</th>\n",
       "      <th>railway_in_500m</th>\n",
       "      <th>food_in_500m</th>\n",
       "      <th>hospital_in_500m</th>\n",
       "      <th>atm_in_500m</th>\n",
       "      <th>college_in_500m</th>\n",
       "      <th>office_in_500m</th>\n",
       "      <th>school_in_500m</th>\n",
       "      <th>airport_in_500m</th>\n",
       "      <th>gov_building_in_500m</th>\n",
       "      <th>kgarden_in_500m</th>\n",
       "      <th>MFC_in_500m</th>\n",
       "      <th>subway_in_500m</th>\n",
       "      <th>dist</th>\n",
       "      <th>area</th>\n",
       "    </tr>\n",
       "  </thead>\n",
       "  <tbody>\n",
       "    <tr>\n",
       "      <th>0</th>\n",
       "      <td>32.0</td>\n",
       "      <td>46.940995</td>\n",
       "      <td>142.738319</td>\n",
       "      <td>0.01150</td>\n",
       "      <td>Дальневосточный федеральный округ</td>\n",
       "      <td>Сахалинская область</td>\n",
       "      <td>610.347831</td>\n",
       "      <td>1969.488428</td>\n",
       "      <td>688.341776</td>\n",
       "      <td>846.734329</td>\n",
       "      <td>551.515436</td>\n",
       "      <td>251122.962844</td>\n",
       "      <td>1086.634741</td>\n",
       "      <td>533.768021</td>\n",
       "      <td>27053.216831</td>\n",
       "      <td>704186.370847</td>\n",
       "      <td>1254.645460</td>\n",
       "      <td>53940.935525</td>\n",
       "      <td>1.711936e+06</td>\n",
       "      <td>171.577438</td>\n",
       "      <td>0.0</td>\n",
       "      <td>0.0</td>\n",
       "      <td>0.0</td>\n",
       "      <td>0.0</td>\n",
       "      <td>0.0</td>\n",
       "      <td>0.0</td>\n",
       "      <td>0.0</td>\n",
       "      <td>0.0</td>\n",
       "      <td>0.0</td>\n",
       "      <td>0.0</td>\n",
       "      <td>0.0</td>\n",
       "      <td>0.0</td>\n",
       "      <td>0.0</td>\n",
       "      <td>30</td>\n",
       "      <td>160311.25</td>\n",
       "    </tr>\n",
       "    <tr>\n",
       "      <th>1</th>\n",
       "      <td>32.0</td>\n",
       "      <td>46.937353</td>\n",
       "      <td>142.753348</td>\n",
       "      <td>0.02971</td>\n",
       "      <td>Дальневосточный федеральный округ</td>\n",
       "      <td>Сахалинская область</td>\n",
       "      <td>55.010198</td>\n",
       "      <td>2146.384235</td>\n",
       "      <td>197.712149</td>\n",
       "      <td>760.622620</td>\n",
       "      <td>349.867950</td>\n",
       "      <td>251733.829151</td>\n",
       "      <td>732.357512</td>\n",
       "      <td>1359.050288</td>\n",
       "      <td>27455.714731</td>\n",
       "      <td>704805.042737</td>\n",
       "      <td>79.951992</td>\n",
       "      <td>55148.993149</td>\n",
       "      <td>1.711936e+06</td>\n",
       "      <td>243.129061</td>\n",
       "      <td>2.0</td>\n",
       "      <td>0.0</td>\n",
       "      <td>1.0</td>\n",
       "      <td>0.0</td>\n",
       "      <td>1.0</td>\n",
       "      <td>0.0</td>\n",
       "      <td>0.0</td>\n",
       "      <td>0.0</td>\n",
       "      <td>0.0</td>\n",
       "      <td>0.0</td>\n",
       "      <td>1.0</td>\n",
       "      <td>0.0</td>\n",
       "      <td>0.0</td>\n",
       "      <td>17</td>\n",
       "      <td>144069.25</td>\n",
       "    </tr>\n",
       "  </tbody>\n",
       "</table>\n",
       "</div>"
      ],
      "text/plain": [
       "   atm_group        lat         lon   target  \\\n",
       "0       32.0  46.940995  142.738319  0.01150   \n",
       "1       32.0  46.937353  142.753348  0.02971   \n",
       "\n",
       "                            fed_dist               region  nearest_bank  \\\n",
       "0  Дальневосточный федеральный округ  Сахалинская область    610.347831   \n",
       "1  Дальневосточный федеральный округ  Сахалинская область     55.010198   \n",
       "\n",
       "   nearest_railway  nearest_food  nearest_hospital  nearest_atm  \\\n",
       "0      1969.488428    688.341776        846.734329   551.515436   \n",
       "1      2146.384235    197.712149        760.622620   349.867950   \n",
       "\n",
       "   nearest_college  nearest_office  nearest_school  nearest_airport  \\\n",
       "0    251122.962844     1086.634741      533.768021     27053.216831   \n",
       "1    251733.829151      732.357512     1359.050288     27455.714731   \n",
       "\n",
       "   nearest_gov_building  nearest_kgarden   nearest_MFC  nearest_subway  \\\n",
       "0         704186.370847      1254.645460  53940.935525    1.711936e+06   \n",
       "1         704805.042737        79.951992  55148.993149    1.711936e+06   \n",
       "\n",
       "   nearest_neighbour_atm  bank_in_500m  railway_in_500m  food_in_500m  \\\n",
       "0             171.577438           0.0              0.0           0.0   \n",
       "1             243.129061           2.0              0.0           1.0   \n",
       "\n",
       "   hospital_in_500m  atm_in_500m  college_in_500m  office_in_500m  \\\n",
       "0               0.0          0.0              0.0             0.0   \n",
       "1               0.0          1.0              0.0             0.0   \n",
       "\n",
       "   school_in_500m  airport_in_500m  gov_building_in_500m  kgarden_in_500m  \\\n",
       "0             0.0              0.0                   0.0              0.0   \n",
       "1             0.0              0.0                   0.0              1.0   \n",
       "\n",
       "   MFC_in_500m  subway_in_500m  dist       area  \n",
       "0          0.0             0.0    30  160311.25  \n",
       "1          0.0             0.0    17  144069.25  "
      ]
     },
     "execution_count": 52,
     "metadata": {},
     "output_type": "execute_result"
    }
   ],
   "source": [
    "train.head(2)"
   ]
  },
  {
   "cell_type": "markdown",
   "id": "8d48687e-e064-4ed2-a246-7a6e74780a69",
   "metadata": {},
   "source": [
    "## ОНЕ и Нормировка и варианты"
   ]
  },
  {
   "cell_type": "code",
   "execution_count": 53,
   "id": "f5538106-c8e1-4673-bfdb-0566bacaf5c4",
   "metadata": {},
   "outputs": [
    {
     "name": "stderr",
     "output_type": "stream",
     "text": [
      "/opt/homebrew/Caskroom/miniforge/base/envs/py39/lib/python3.9/site-packages/sklearn/preprocessing/_encoders.py:188: UserWarning: Found unknown categories in columns [2] during transform. These unknown categories will be encoded as all zeros\n",
      "  warnings.warn(\n"
     ]
    }
   ],
   "source": [
    "train1 = train.copy()\n",
    "test1 = test.copy()\n",
    "\n",
    "enc = OneHotEncoder(handle_unknown='ignore',drop = 'first')\n",
    "enc.fit(train1[['atm_group','fed_dist','region']])\n",
    "\n",
    "train1[enc.get_feature_names_out(['atm_group','fed_dist','region'])] = pd.DataFrame(enc.transform(train1[['atm_group','fed_dist','region']]).toarray())\n",
    "test1[enc.get_feature_names_out(['atm_group','fed_dist','region'])] = pd.DataFrame(enc.transform(test1[['atm_group','fed_dist','region']]).toarray())\n",
    "train1 = train1.drop(columns=['atm_group','fed_dist','region'])\n",
    "test1 = test1.drop(columns=['atm_group','fed_dist','region'])\n",
    "\n",
    "X_train, X_test, y_train, y_test = train_test_split(train1.drop(columns = ['target']),train1.target , test_size=0.2, random_state=42)\n",
    "\n",
    "scaler = StandardScaler()\n",
    "scaler.fit(X_train)\n",
    "\n",
    "X_train = pd.DataFrame(scaler.transform(X_train),columns = X_train.columns)\n",
    "X_test = pd.DataFrame(scaler.transform(X_test),columns = X_test.columns)\n",
    "test1 = pd.DataFrame(scaler.transform(test1),columns = test1.columns)\n",
    "\n",
    "X_train.to_csv('../data/ohe-norm/X_train.csv',index = False)\n",
    "y_train.to_csv('../data/ohe-norm/y_train.csv',index = False)\n",
    "X_test.to_csv('../data/ohe-norm/X_test.csv',index = False)\n",
    "y_test.to_csv('../data/ohe-norm/y_test.csv',index = False)\n",
    "test1.to_csv('../data/ohe-norm/test.csv',index = False)\n"
   ]
  },
  {
   "cell_type": "code",
   "execution_count": 58,
   "id": "76566866-be0d-4ecf-a409-8501a3b9cee2",
   "metadata": {},
   "outputs": [
    {
     "name": "stderr",
     "output_type": "stream",
     "text": [
      "/opt/homebrew/Caskroom/miniforge/base/envs/py39/lib/python3.9/site-packages/sklearn/preprocessing/_encoders.py:188: UserWarning: Found unknown categories in columns [2] during transform. These unknown categories will be encoded as all zeros\n",
      "  warnings.warn(\n"
     ]
    }
   ],
   "source": [
    "train2 = train.copy()\n",
    "test2 = test.copy()\n",
    "\n",
    "enc = OneHotEncoder(handle_unknown='ignore',drop = 'first')\n",
    "enc.fit(train2[['atm_group','fed_dist','region']])\n",
    "\n",
    "train2[enc.get_feature_names_out(['atm_group','fed_dist','region'])] = pd.DataFrame(enc.transform(train2[['atm_group','fed_dist','region']]).toarray())\n",
    "test2[enc.get_feature_names_out(['atm_group','fed_dist','region'])] = pd.DataFrame(enc.transform(test2[['atm_group','fed_dist','region']]).toarray())\n",
    "train2 = train2.drop(columns=['atm_group','fed_dist','region'])\n",
    "test2 = test2.drop(columns=['atm_group','fed_dist','region'])\n",
    "\n",
    "X_train, X_test, y_train, y_test = train_test_split(train2.drop(columns = ['target']),train2.target , test_size=0.2, random_state=42)\n",
    "\n",
    "X_train.to_csv('../data/ohe-no-norm/X_train.csv',index = False)\n",
    "y_train.to_csv('../data/ohe-no-norm/y_train.csv',index = False)\n",
    "X_test.to_csv('../data/ohe-no-norm/X_test.csv',index = False)\n",
    "y_test.to_csv('../data/ohe-no-norm/y_test.csv',index = False)\n",
    "test2.to_csv('../data/ohe-no-norm/test.csv',index = False)"
   ]
  },
  {
   "cell_type": "code",
   "execution_count": 55,
   "id": "fabc61d3-284a-4022-83eb-a765bc2dd4cf",
   "metadata": {},
   "outputs": [],
   "source": [
    "train3 = train.copy()\n",
    "test3 = test.copy()\n",
    "\n",
    "\n",
    "X_train, X_test, y_train, y_test = train_test_split(train3.drop(columns = ['target']),train3.target , test_size=0.2, random_state=42)\n",
    "\n",
    "scaler = StandardScaler()\n",
    "scaler.fit(X_train[X_train.columns.difference(['atm_group', 'region','fed_dist'])])\n",
    "\n",
    "X_train[X_train.columns.difference(['atm_group', 'region','fed_dist'])] = scaler.transform(X_train[X_train.columns.difference(['atm_group', 'region','fed_dist'])])\n",
    "X_test[X_test.columns.difference(['atm_group', 'region','fed_dist'])] = scaler.transform(X_test[X_test.columns.difference(['atm_group', 'region','fed_dist'])])\n",
    "test3[test3.columns.difference(['atm_group', 'region','fed_dist'])] = scaler.transform(test3[test3.columns.difference(['atm_group', 'region','fed_dist'])])\n",
    "\n",
    "X_train.to_csv('../data/no-ohe-norm/X_train.csv',index = False)\n",
    "y_train.to_csv('../data/no-ohe-norm/y_train.csv',index = False)\n",
    "X_test.to_csv('../data/no-ohe-norm/X_test.csv',index = False)\n",
    "y_test.to_csv('../data/no-ohe-norm/y_test.csv',index = False)\n",
    "test3.to_csv('../data/no-ohe-norm/test.csv',index = False)"
   ]
  },
  {
   "cell_type": "code",
   "execution_count": 56,
   "id": "745fe0ed-8532-44f5-8efb-07b73dc71136",
   "metadata": {},
   "outputs": [],
   "source": [
    "train4 = train.copy()\n",
    "test4 = test.copy()\n",
    "\n",
    "\n",
    "X_train, X_test, y_train, y_test = train_test_split(train4.drop(columns = ['target']),train4.target , test_size=0.2, random_state=42)\n",
    "\n",
    "X_train.to_csv('../data/no-ohe-no-norm/X_train.csv',index = False)\n",
    "y_train.to_csv('../data/no-ohe-no-norm/y_train.csv',index = False)\n",
    "X_test.to_csv('../data/no-ohe-no-norm/X_test.csv',index = False)\n",
    "y_test.to_csv('../data/no-ohe-no-norm/y_test.csv',index = False)\n",
    "test4.to_csv('../data/no-ohe-no-norm/test.csv',index = False)"
   ]
  },
  {
   "cell_type": "markdown",
   "id": "08ccbe93-d2a8-4516-b139-57cb60a4b945",
   "metadata": {
    "tags": []
   },
   "source": [
    "## Baseline средним/медианным значением"
   ]
  },
  {
   "cell_type": "code",
   "execution_count": 57,
   "id": "feb73e75-b902-4840-8478-e9e49b894922",
   "metadata": {
    "tags": []
   },
   "outputs": [
    {
     "name": "stdout",
     "output_type": "stream",
     "text": [
      "rmse median baseline: 0.08843944093289292\n",
      "rmse mean baseline: 0.08663733448406714\n",
      "mape median baseline: 2.616892798046592\n",
      "mape mean baseline: 1.027674440168153\n"
     ]
    }
   ],
   "source": [
    "print('rmse median baseline:',mean_squared_error(y_test, [y_train.median()]*y_test.size, squared=False))\n",
    "print('rmse mean baseline:',mean_squared_error(y_test, [y_train.mean()]*y_test.size, squared=False))\n",
    "print('mape median baseline:',mean_absolute_percentage_error(y_test, [y_train.median()]*y_test.size))\n",
    "print('mape mean baseline:',mean_absolute_percentage_error(y_test, [y_train.mean()]*y_test.size))"
   ]
  },
  {
   "cell_type": "markdown",
   "id": "6c7c9837-0578-4259-8c06-3478a22f3a70",
   "metadata": {
    "tags": []
   },
   "source": [
    "## Наш baseline rmse: 0.087 (среднее значение по таргету)\n",
    "## mape 102%"
   ]
  },
  {
   "cell_type": "code",
   "execution_count": null,
   "id": "84d51821-1370-43a6-86fe-82ad81f5a7e3",
   "metadata": {},
   "outputs": [],
   "source": []
  }
 ],
 "metadata": {
  "kernelspec": {
   "display_name": "py39",
   "language": "python",
   "name": "py39"
  },
  "language_info": {
   "codemirror_mode": {
    "name": "ipython",
    "version": 3
   },
   "file_extension": ".py",
   "mimetype": "text/x-python",
   "name": "python",
   "nbconvert_exporter": "python",
   "pygments_lexer": "ipython3",
   "version": "3.9.13"
  }
 },
 "nbformat": 4,
 "nbformat_minor": 5
}
