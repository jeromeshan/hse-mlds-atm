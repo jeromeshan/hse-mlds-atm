{
 "cells": [
  {
   "cell_type": "code",
   "execution_count": 99,
   "id": "fae41562-9b0b-49fc-aad0-205c1e838a8f",
   "metadata": {},
   "outputs": [],
   "source": [
    "import pandas as pd\n",
    "import geopandas as gpd\n",
    "import numpy as np\n",
    "\n",
    "import matplotlib.pyplot as plt\n",
    "import seaborn as sns\n",
    "\n",
    "from sklearn.preprocessing import OneHotEncoder\n",
    "from sklearn.preprocessing import StandardScaler\n",
    "from sklearn.model_selection import train_test_split\n",
    "from sklearn.linear_model import Ridge\n",
    "from sklearn.metrics import mean_squared_error\n",
    "\n",
    "# import warnings\n",
    "# warnings.filterwarnings('ignore')\n",
    "pd.set_option('display.max_columns', 50)"
   ]
  },
  {
   "cell_type": "markdown",
   "id": "ae4e452d-746b-4315-b990-b7cebf5480cf",
   "metadata": {},
   "source": [
    "## Подготовка данных"
   ]
  },
  {
   "cell_type": "code",
   "execution_count": 100,
   "id": "e8b0f7a8-2a24-4988-b4eb-dfadb0bf402e",
   "metadata": {},
   "outputs": [
    {
     "name": "stderr",
     "output_type": "stream",
     "text": [
      "/var/folders/8m/fpt3kb2n0ys89v3nl34fszrd2jtv8f/T/ipykernel_30030/819544030.py:10: FutureWarning: Passing a set as an indexer is deprecated and will raise in a future version. Use a list instead.\n",
      "  train = df[~df.target.isna()][meaningful_subset]\n",
      "/var/folders/8m/fpt3kb2n0ys89v3nl34fszrd2jtv8f/T/ipykernel_30030/819544030.py:11: FutureWarning: Passing a set as an indexer is deprecated and will raise in a future version. Use a list instead.\n",
      "  test = df[df.target.isna()][meaningful_subset].drop(columns = ['target'])\n"
     ]
    }
   ],
   "source": [
    "df_overpass_1 = pd.read_csv('../../checkpoint-2/overpass/adj_df_additional.csv',index_col=[0])\n",
    "df_overpass_2 = pd.read_csv('../../checkpoint-2/overpass/adj_df.csv',index_col=[0])\n",
    "df_overpass = df_overpass_1.merge(df_overpass_2, on = 'id')\n",
    "df_info = pd.read_csv('../../checkpoint-2/overpass/concat_df.csv',index_col=[0])\n",
    "df = df_info.merge(df_overpass, on = ['id'])\n",
    "\n",
    "meaningful_subset = set(df.columns).difference(['id', 'long', 'lat', 'utm',\n",
    "                                                'geometry', 'address', 'address_rus'])\n",
    "\n",
    "train = df[~df.target.isna()][meaningful_subset]\n",
    "test = df[df.target.isna()][meaningful_subset].drop(columns = ['target'])"
   ]
  },
  {
   "cell_type": "markdown",
   "id": "8d48687e-e064-4ed2-a246-7a6e74780a69",
   "metadata": {},
   "source": [
    "## ОНЕ и Нормировка"
   ]
  },
  {
   "cell_type": "code",
   "execution_count": 101,
   "id": "f5538106-c8e1-4673-bfdb-0566bacaf5c4",
   "metadata": {},
   "outputs": [
    {
     "name": "stderr",
     "output_type": "stream",
     "text": [
      "/var/folders/8m/fpt3kb2n0ys89v3nl34fszrd2jtv8f/T/ipykernel_30030/3953218906.py:3: SettingWithCopyWarning: \n",
      "A value is trying to be set on a copy of a slice from a DataFrame.\n",
      "Try using .loc[row_indexer,col_indexer] = value instead\n",
      "\n",
      "See the caveats in the documentation: https://pandas.pydata.org/pandas-docs/stable/user_guide/indexing.html#returning-a-view-versus-a-copy\n",
      "  train[enc.get_feature_names_out(['atm_group'])] = pd.DataFrame(enc.transform(train.atm_group.to_numpy().reshape(-1, 1)).toarray())\n",
      "/var/folders/8m/fpt3kb2n0ys89v3nl34fszrd2jtv8f/T/ipykernel_30030/3953218906.py:3: SettingWithCopyWarning: \n",
      "A value is trying to be set on a copy of a slice from a DataFrame.\n",
      "Try using .loc[row_indexer,col_indexer] = value instead\n",
      "\n",
      "See the caveats in the documentation: https://pandas.pydata.org/pandas-docs/stable/user_guide/indexing.html#returning-a-view-versus-a-copy\n",
      "  train[enc.get_feature_names_out(['atm_group'])] = pd.DataFrame(enc.transform(train.atm_group.to_numpy().reshape(-1, 1)).toarray())\n",
      "/var/folders/8m/fpt3kb2n0ys89v3nl34fszrd2jtv8f/T/ipykernel_30030/3953218906.py:3: SettingWithCopyWarning: \n",
      "A value is trying to be set on a copy of a slice from a DataFrame.\n",
      "Try using .loc[row_indexer,col_indexer] = value instead\n",
      "\n",
      "See the caveats in the documentation: https://pandas.pydata.org/pandas-docs/stable/user_guide/indexing.html#returning-a-view-versus-a-copy\n",
      "  train[enc.get_feature_names_out(['atm_group'])] = pd.DataFrame(enc.transform(train.atm_group.to_numpy().reshape(-1, 1)).toarray())\n",
      "/var/folders/8m/fpt3kb2n0ys89v3nl34fszrd2jtv8f/T/ipykernel_30030/3953218906.py:3: SettingWithCopyWarning: \n",
      "A value is trying to be set on a copy of a slice from a DataFrame.\n",
      "Try using .loc[row_indexer,col_indexer] = value instead\n",
      "\n",
      "See the caveats in the documentation: https://pandas.pydata.org/pandas-docs/stable/user_guide/indexing.html#returning-a-view-versus-a-copy\n",
      "  train[enc.get_feature_names_out(['atm_group'])] = pd.DataFrame(enc.transform(train.atm_group.to_numpy().reshape(-1, 1)).toarray())\n"
     ]
    }
   ],
   "source": [
    "enc = OneHotEncoder(handle_unknown='ignore',drop = 'first')\n",
    "enc.fit(train.atm_group.to_numpy().reshape(-1, 1))\n",
    "train[enc.get_feature_names_out(['atm_group'])] = pd.DataFrame(enc.transform(train.atm_group.to_numpy().reshape(-1, 1)).toarray())\n",
    "test[enc.get_feature_names_out(['atm_group'])] = pd.DataFrame(enc.transform(test.atm_group.to_numpy().reshape(-1, 1)).toarray())\n",
    "\n",
    "train = train.drop(columns=['atm_group'])\n",
    "test = test.drop(columns=['atm_group'])\n"
   ]
  },
  {
   "cell_type": "code",
   "execution_count": 102,
   "id": "0b917cd4-c4c9-4746-8e48-7d679a3dbf79",
   "metadata": {},
   "outputs": [],
   "source": [
    "X_train, X_test, y_train, y_test = train_test_split(train.drop(columns = ['target']),train.target , test_size=0.8, random_state=42)\n"
   ]
  },
  {
   "cell_type": "code",
   "execution_count": 103,
   "id": "54b96be6-8eff-4a17-b70c-cc85b19d49f6",
   "metadata": {},
   "outputs": [],
   "source": [
    "scaler = StandardScaler()\n",
    "scaler.fit(X_train)\n",
    "\n",
    "X_train = pd.DataFrame(scaler.transform(X_train),columns = X_train.columns)\n",
    "X_test = pd.DataFrame(scaler.transform(X_test),columns = X_test.columns)\n",
    "test = pd.DataFrame(scaler.transform(test),columns = test.columns)\n"
   ]
  },
  {
   "cell_type": "markdown",
   "id": "08ccbe93-d2a8-4516-b139-57cb60a4b945",
   "metadata": {
    "tags": []
   },
   "source": [
    "## Baseline средним/медианным значением"
   ]
  },
  {
   "cell_type": "code",
   "execution_count": 104,
   "id": "feb73e75-b902-4840-8478-e9e49b894922",
   "metadata": {
    "tags": []
   },
   "outputs": [
    {
     "name": "stdout",
     "output_type": "stream",
     "text": [
      "rmse median baseline: 0.08797630720473963\n",
      "rmse mean baseline: 0.08615870121024428\n"
     ]
    }
   ],
   "source": [
    "print('rmse median baseline:',mean_squared_error(y_test, [y_train.median()]*y_test.size, squared=False))\n",
    "print('rmse mean baseline:',mean_squared_error(y_test, [y_train.mean()]*y_test.size, squared=False))"
   ]
  },
  {
   "cell_type": "markdown",
   "id": "6c7c9837-0578-4259-8c06-3478a22f3a70",
   "metadata": {},
   "source": [
    "## Наш baseline rmse: 0.086 (среднее значение по таргету)"
   ]
  },
  {
   "cell_type": "markdown",
   "id": "afe9be2d-66d6-4600-af17-a8186d90c83d",
   "metadata": {
    "tags": []
   },
   "source": [
    "## Применение ridge регрессии"
   ]
  },
  {
   "cell_type": "code",
   "execution_count": 105,
   "id": "9351c422-55ac-4ca3-9481-bec9d34a9b78",
   "metadata": {},
   "outputs": [
    {
     "name": "stdout",
     "output_type": "stream",
     "text": [
      "rmse baseline: 0.04948708519299563\n"
     ]
    }
   ],
   "source": [
    "ridge = Ridge(alpha = 0.05).fit(X_train, y_train)\n",
    "y_pred = ridge.predict(X_test)\n",
    "print('rmse baseline:',mean_squared_error(y_test, y_pred, squared=False))"
   ]
  },
  {
   "cell_type": "code",
   "execution_count": null,
   "id": "84d51821-1370-43a6-86fe-82ad81f5a7e3",
   "metadata": {},
   "outputs": [],
   "source": []
  }
 ],
 "metadata": {
  "kernelspec": {
   "display_name": "py39",
   "language": "python",
   "name": "py39"
  },
  "language_info": {
   "codemirror_mode": {
    "name": "ipython",
    "version": 3
   },
   "file_extension": ".py",
   "mimetype": "text/x-python",
   "name": "python",
   "nbconvert_exporter": "python",
   "pygments_lexer": "ipython3",
   "version": "3.9.13"
  }
 },
 "nbformat": 4,
 "nbformat_minor": 5
}
