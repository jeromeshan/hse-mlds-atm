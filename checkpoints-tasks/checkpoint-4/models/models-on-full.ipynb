{
 "cells": [
  {
   "cell_type": "code",
   "execution_count": 1,
   "id": "914b00c2-ab00-4445-b724-80aae4d551d4",
   "metadata": {},
   "outputs": [],
   "source": [
    "import pandas as pd\n",
    "import geopandas as gpd\n",
    "import numpy as np\n",
    "\n",
    "import matplotlib.pyplot as plt\n",
    "import seaborn as sns\n",
    "\n",
    "from sklearn.linear_model import Ridge, Lasso, ElasticNet\n",
    "from sklearn.ensemble import RandomForestRegressor\n",
    "from sklearn.neighbors import KNeighborsRegressor\n",
    "from catboost import CatBoostRegressor\n",
    "\n",
    "from sklearn.metrics import mean_squared_error\n",
    "from sklearn.model_selection import GridSearchCV\n",
    "\n",
    "\n",
    "import warnings\n",
    "warnings.filterwarnings('ignore')"
   ]
  },
  {
   "cell_type": "code",
   "execution_count": 2,
   "id": "3882ec54-e945-42ef-84ca-28e44bb56a5e",
   "metadata": {},
   "outputs": [],
   "source": [
    "X_train = pd.read_csv('../X_train_transformed.csv').drop(columns= ['Unnamed: 0'])\n",
    "y_train = pd.read_csv('../y_train_transformed.csv').drop(columns= ['Unnamed: 0'])\n",
    "X_test = pd.read_csv('../X_test_transformed.csv').drop(columns= ['Unnamed: 0'])\n",
    "y_test = pd.read_csv('../y_test_transformed.csv').drop(columns= ['Unnamed: 0'])"
   ]
  },
  {
   "cell_type": "code",
   "execution_count": 3,
   "id": "8ea353fe-c2e4-44a1-8753-316edbf29f7a",
   "metadata": {},
   "outputs": [
    {
     "name": "stdout",
     "output_type": "stream",
     "text": [
      "grid search best score:  -0.04918027496566302\n",
      "grid search best params:  {'alpha': 19.5}\n",
      "rmse ridge: 0.047742447006479914\n"
     ]
    }
   ],
   "source": [
    "ridge = Ridge()\n",
    "\n",
    "parameters = {'alpha':np.arange(0.5,20,0.5)}\n",
    "\n",
    "gs = GridSearchCV(ridge, parameters, scoring='neg_root_mean_squared_error',cv=5)\n",
    "\n",
    "#fit the grid search\n",
    "gs.fit(X_train,y_train)\n",
    "\n",
    "# best estimator\n",
    "print('grid search best score: ',gs.best_score_)\n",
    "print('grid search best params: ',gs.best_params_)\n",
    "\n",
    "# best model\n",
    "best_model = gs.best_estimator_\n",
    "best_model.fit(X_train,y_train)\n",
    "print('rmse ridge:',mean_squared_error(y_test, best_model.predict(X_test), squared=False))\n"
   ]
  },
  {
   "cell_type": "code",
   "execution_count": 4,
   "id": "6355d628-b6a8-4774-87ea-f64493b500a2",
   "metadata": {},
   "outputs": [
    {
     "name": "stdout",
     "output_type": "stream",
     "text": [
      "grid search best score:  -0.08600141924757151\n",
      "grid search best params:  {'alpha': 0.5}\n",
      "rmse lasso: 0.08711175580305142\n"
     ]
    }
   ],
   "source": [
    "lasso = Lasso()\n",
    "parameters = {'alpha':np.arange(0.5,20,0.5)}\n",
    "\n",
    "gs = GridSearchCV(lasso, parameters, scoring='neg_root_mean_squared_error',cv=5)\n",
    "\n",
    "#fit the grid search\n",
    "gs.fit(X_train,y_train)\n",
    "\n",
    "# best estimator\n",
    "print('grid search best score: ',gs.best_score_)\n",
    "print('grid search best params: ',gs.best_params_)\n",
    "\n",
    "# best model\n",
    "best_model = gs.best_estimator_\n",
    "best_model.fit(X_train,y_train)\n",
    "print('rmse lasso:',mean_squared_error(y_test, best_model.predict(X_test), squared=False))\n"
   ]
  },
  {
   "cell_type": "code",
   "execution_count": 5,
   "id": "75e93908-bc79-4a1d-8b2f-f992ceac3028",
   "metadata": {
    "tags": []
   },
   "outputs": [
    {
     "name": "stdout",
     "output_type": "stream",
     "text": [
      "grid search best score:  -0.048157958520686765\n",
      "grid search best params:  {'max_depth': 7, 'min_samples_split': 4, 'n_estimators': 50}\n",
      "rmse random_forest: 0.047426358690265985\n"
     ]
    }
   ],
   "source": [
    "random_forest = RandomForestRegressor()\n",
    "parameters = {'n_estimators':[10,25,50,100],\n",
    "             'max_depth':[3,5,7],\n",
    "             'min_samples_split':[2,4,6]}\n",
    "\n",
    "gs = GridSearchCV(random_forest, parameters, scoring='neg_root_mean_squared_error',cv=5)\n",
    "\n",
    "#fit the grid search\n",
    "gs.fit(X_train,y_train)\n",
    "\n",
    "# best estimator\n",
    "print('grid search best score: ',gs.best_score_)\n",
    "print('grid search best params: ',gs.best_params_)\n",
    "\n",
    "# best model\n",
    "best_model = gs.best_estimator_\n",
    "best_model.fit(X_train,y_train)\n",
    "print('rmse random_forest:',mean_squared_error(y_test, best_model.predict(X_test), squared=False))\n"
   ]
  },
  {
   "cell_type": "code",
   "execution_count": 6,
   "id": "2a3a0f6e-3fb8-4929-b17c-31d680a2ddda",
   "metadata": {},
   "outputs": [
    {
     "name": "stdout",
     "output_type": "stream",
     "text": [
      "grid search best score:  -0.05589610623237947\n",
      "grid search best params:  {'n_neighbors': 11}\n",
      "rmse knn: 0.05575787155876405\n"
     ]
    }
   ],
   "source": [
    "knn = KNeighborsRegressor()\n",
    "parameters = {'n_neighbors':np.arange(1,20,1)}\n",
    "\n",
    "gs = GridSearchCV(knn, parameters, scoring='neg_root_mean_squared_error',cv=5)\n",
    "\n",
    "#fit the grid search\n",
    "gs.fit(X_train,y_train)\n",
    "\n",
    "# best estimator\n",
    "print('grid search best score: ',gs.best_score_)\n",
    "print('grid search best params: ',gs.best_params_)\n",
    "\n",
    "# best model\n",
    "best_model = gs.best_estimator_\n",
    "best_model.fit(X_train,y_train)\n",
    "print('rmse knn:',mean_squared_error(y_test, best_model.predict(X_test), squared=False))\n"
   ]
  },
  {
   "cell_type": "code",
   "execution_count": 7,
   "id": "a70469ec-6b76-40ab-98ce-f73f3d97e70b",
   "metadata": {
    "collapsed": true,
    "jupyter": {
     "outputs_hidden": true
    },
    "tags": []
   },
   "outputs": [
    {
     "name": "stdout",
     "output_type": "stream",
     "text": [
      "\n",
      "bestTest = 0.04601301569\n",
      "bestIteration = 990\n",
      "\n",
      "\n",
      "bestTest = 0.04565595762\n",
      "bestIteration = 833\n",
      "\n",
      "\n",
      "bestTest = 0.04611859442\n",
      "bestIteration = 998\n",
      "\n",
      "\n",
      "bestTest = 0.04575274661\n",
      "bestIteration = 679\n",
      "\n",
      "\n",
      "bestTest = 0.04602055123\n",
      "bestIteration = 999\n",
      "\n",
      "\n",
      "bestTest = 0.04574837722\n",
      "bestIteration = 583\n",
      "\n",
      "\n",
      "bestTest = 0.04605584878\n",
      "bestIteration = 998\n",
      "\n",
      "\n",
      "bestTest = 0.04562801007\n",
      "bestIteration = 988\n",
      "\n",
      "\n",
      "bestTest = 0.04607403297\n",
      "bestIteration = 999\n",
      "\n",
      "\n",
      "bestTest = 0.04579990102\n",
      "bestIteration = 879\n",
      "\n",
      "\n",
      "bestTest = 0.04514004563\n",
      "bestIteration = 983\n",
      "\n",
      "\n",
      "bestTest = 0.04515606051\n",
      "bestIteration = 449\n",
      "\n",
      "\n",
      "bestTest = 0.04517759413\n",
      "bestIteration = 996\n",
      "\n",
      "\n",
      "bestTest = 0.044883324\n",
      "bestIteration = 711\n",
      "\n",
      "\n",
      "bestTest = 0.04523288025\n",
      "bestIteration = 999\n",
      "\n",
      "\n",
      "bestTest = 0.04501891504\n",
      "bestIteration = 675\n",
      "\n",
      "\n",
      "bestTest = 0.04523162759\n",
      "bestIteration = 995\n",
      "\n",
      "\n",
      "bestTest = 0.04502696332\n",
      "bestIteration = 502\n",
      "\n",
      "\n",
      "bestTest = 0.0451170157\n",
      "bestIteration = 996\n",
      "\n",
      "\n",
      "bestTest = 0.04502805806\n",
      "bestIteration = 623\n",
      "\n",
      "\n",
      "bestTest = 0.04453793346\n",
      "bestIteration = 809\n",
      "\n",
      "\n",
      "bestTest = 0.04446858648\n",
      "bestIteration = 388\n",
      "\n",
      "\n",
      "bestTest = 0.04449360286\n",
      "bestIteration = 997\n",
      "\n",
      "\n",
      "bestTest = 0.04487958212\n",
      "bestIteration = 365\n",
      "\n",
      "\n",
      "bestTest = 0.04448446899\n",
      "bestIteration = 998\n",
      "\n",
      "\n",
      "bestTest = 0.04434832157\n",
      "bestIteration = 562\n",
      "\n",
      "\n",
      "bestTest = 0.04448228997\n",
      "bestIteration = 994\n",
      "\n",
      "\n",
      "bestTest = 0.04435609288\n",
      "bestIteration = 443\n",
      "\n",
      "\n",
      "bestTest = 0.04455740498\n",
      "bestIteration = 991\n",
      "\n",
      "\n",
      "bestTest = 0.04445365574\n",
      "bestIteration = 547\n",
      "\n",
      "Training on fold [0/3]\n",
      "\n",
      "bestTest = 0.04870220516\n",
      "bestIteration = 324\n",
      "\n",
      "Training on fold [1/3]\n",
      "\n",
      "bestTest = 0.04793851923\n",
      "bestIteration = 563\n",
      "\n",
      "Training on fold [2/3]\n",
      "\n",
      "bestTest = 0.04707732974\n",
      "bestIteration = 254\n",
      "\n"
     ]
    }
   ],
   "source": [
    "cat = CatBoostRegressor(verbose = False)\n",
    "grid = {'learning_rate': [0.03, 0.1],\n",
    "        'depth': [2, 4, 6],\n",
    "        'l2_leaf_reg': [1, 3, 5, 7, 9]}\n",
    "\n",
    "grid_search_result = cat.grid_search(grid, X=X_train, y=y_train,verbose = 0)"
   ]
  },
  {
   "cell_type": "code",
   "execution_count": 9,
   "id": "b69d96b3-8a7f-40df-a910-bee86085e86b",
   "metadata": {},
   "outputs": [
    {
     "data": {
      "text/plain": [
       "{'depth': 6, 'l2_leaf_reg': 5, 'learning_rate': 0.1}"
      ]
     },
     "execution_count": 9,
     "metadata": {},
     "output_type": "execute_result"
    }
   ],
   "source": [
    "grid_search_result['params']"
   ]
  },
  {
   "cell_type": "code",
   "execution_count": 10,
   "id": "7c4c4baf-e920-4558-91db-98ef9c6745b7",
   "metadata": {},
   "outputs": [
    {
     "name": "stdout",
     "output_type": "stream",
     "text": [
      "rmse cat: 0.046672229011035626\n"
     ]
    }
   ],
   "source": [
    "cat = CatBoostRegressor(verbose = False,depth = 6,l2_leaf_reg = 5,learning_rate = 0.1)\n",
    "cat.fit(X_train,y_train)\n",
    "print('rmse cat:',mean_squared_error(y_test, cat.predict(X_test), squared=False))\n"
   ]
  },
  {
   "cell_type": "code",
   "execution_count": null,
   "id": "25efada5-dbec-408a-9333-de31969c7889",
   "metadata": {},
   "outputs": [],
   "source": []
  }
 ],
 "metadata": {
  "kernelspec": {
   "display_name": "py39",
   "language": "python",
   "name": "py39"
  },
  "language_info": {
   "codemirror_mode": {
    "name": "ipython",
    "version": 3
   },
   "file_extension": ".py",
   "mimetype": "text/x-python",
   "name": "python",
   "nbconvert_exporter": "python",
   "pygments_lexer": "ipython3",
   "version": "3.9.13"
  }
 },
 "nbformat": 4,
 "nbformat_minor": 5
}
