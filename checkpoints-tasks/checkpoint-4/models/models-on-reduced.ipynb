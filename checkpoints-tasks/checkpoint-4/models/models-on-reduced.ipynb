{
 "cells": [
  {
   "cell_type": "code",
   "execution_count": 22,
   "id": "914b00c2-ab00-4445-b724-80aae4d551d4",
   "metadata": {},
   "outputs": [],
   "source": [
    "import pandas as pd\n",
    "import geopandas as gpd\n",
    "import numpy as np\n",
    "\n",
    "import matplotlib.pyplot as plt\n",
    "import seaborn as sns\n",
    "\n",
    "from sklearn.linear_model import Ridge, Lasso, ElasticNet\n",
    "from sklearn.ensemble import RandomForestRegressor\n",
    "from sklearn.neighbors import KNeighborsRegressor\n",
    "from catboost import CatBoostRegressor\n",
    "\n",
    "from sklearn.metrics import mean_squared_error\n",
    "from sklearn.model_selection import GridSearchCV\n",
    "\n",
    "\n",
    "import warnings\n",
    "warnings.filterwarnings('ignore')"
   ]
  },
  {
   "cell_type": "code",
   "execution_count": 2,
   "id": "3882ec54-e945-42ef-84ca-28e44bb56a5e",
   "metadata": {},
   "outputs": [],
   "source": [
    "X_train = pd.read_csv('../X_train_transformed_reduced.csv').drop(columns= ['Unnamed: 0'])\n",
    "y_train = pd.read_csv('../y_train_transformed_reduced.csv').drop(columns= ['Unnamed: 0'])\n",
    "X_test = pd.read_csv('../X_test_transformed_reduced.csv').drop(columns= ['Unnamed: 0'])\n",
    "y_test = pd.read_csv('../y_test_transformed_reduced.csv').drop(columns= ['Unnamed: 0'])"
   ]
  },
  {
   "cell_type": "code",
   "execution_count": 18,
   "id": "8ea353fe-c2e4-44a1-8753-316edbf29f7a",
   "metadata": {},
   "outputs": [
    {
     "name": "stdout",
     "output_type": "stream",
     "text": [
      "grid search best score:  -0.05015721517461735\n",
      "grid search best params:  {'alpha': 14.5}\n",
      "rmse ridge: 0.04930850566748091\n"
     ]
    }
   ],
   "source": [
    "ridge = Ridge()\n",
    "\n",
    "parameters = {'alpha':np.arange(0.5,20,0.5)}\n",
    "\n",
    "gs = GridSearchCV(ridge, parameters, scoring='neg_root_mean_squared_error',cv=5)\n",
    "\n",
    "#fit the grid search\n",
    "gs.fit(X_train,y_train)\n",
    "\n",
    "# best estimator\n",
    "print('grid search best score: ',gs.best_score_)\n",
    "print('grid search best params: ',gs.best_params_)\n",
    "\n",
    "# best model\n",
    "best_model = gs.best_estimator_\n",
    "best_model.fit(X_train,y_train)\n",
    "print('rmse ridge:',mean_squared_error(y_test, best_model.predict(X_test), squared=False))\n"
   ]
  },
  {
   "cell_type": "code",
   "execution_count": 19,
   "id": "6355d628-b6a8-4774-87ea-f64493b500a2",
   "metadata": {},
   "outputs": [
    {
     "name": "stdout",
     "output_type": "stream",
     "text": [
      "grid search best score:  -0.08600141924757151\n",
      "grid search best params:  {'alpha': 0.5}\n",
      "rmse lasso: 0.08711175580305142\n"
     ]
    }
   ],
   "source": [
    "lasso = Lasso()\n",
    "parameters = {'alpha':np.arange(0.5,20,0.5)}\n",
    "\n",
    "gs = GridSearchCV(lasso, parameters, scoring='neg_root_mean_squared_error',cv=5)\n",
    "\n",
    "#fit the grid search\n",
    "gs.fit(X_train,y_train)\n",
    "\n",
    "# best estimator\n",
    "print('grid search best score: ',gs.best_score_)\n",
    "print('grid search best params: ',gs.best_params_)\n",
    "\n",
    "# best model\n",
    "best_model = gs.best_estimator_\n",
    "best_model.fit(X_train,y_train)\n",
    "print('rmse lasso:',mean_squared_error(y_test, best_model.predict(X_test), squared=False))\n"
   ]
  },
  {
   "cell_type": "code",
   "execution_count": 23,
   "id": "75e93908-bc79-4a1d-8b2f-f992ceac3028",
   "metadata": {
    "tags": []
   },
   "outputs": [
    {
     "name": "stdout",
     "output_type": "stream",
     "text": [
      "grid search best score:  -0.049095151580185216\n",
      "grid search best params:  {'max_depth': 7, 'min_samples_split': 2, 'n_estimators': 100}\n",
      "rmse random_forest: 0.04839975424079646\n"
     ]
    }
   ],
   "source": [
    "random_forest = RandomForestRegressor()\n",
    "parameters = {'n_estimators':[10,25,50,100],\n",
    "             'max_depth':[3,5,7],\n",
    "             'min_samples_split':[2,4,6]}\n",
    "\n",
    "gs = GridSearchCV(random_forest, parameters, scoring='neg_root_mean_squared_error',cv=5)\n",
    "\n",
    "#fit the grid search\n",
    "gs.fit(X_train,y_train)\n",
    "\n",
    "# best estimator\n",
    "print('grid search best score: ',gs.best_score_)\n",
    "print('grid search best params: ',gs.best_params_)\n",
    "\n",
    "# best model\n",
    "best_model = gs.best_estimator_\n",
    "best_model.fit(X_train,y_train)\n",
    "print('rmse random_forest:',mean_squared_error(y_test, best_model.predict(X_test), squared=False))\n"
   ]
  },
  {
   "cell_type": "code",
   "execution_count": 24,
   "id": "2a3a0f6e-3fb8-4929-b17c-31d680a2ddda",
   "metadata": {},
   "outputs": [
    {
     "name": "stdout",
     "output_type": "stream",
     "text": [
      "grid search best score:  -0.05397446341053432\n",
      "grid search best params:  {'n_neighbors': 9}\n",
      "rmse knn: 0.05400830756960631\n"
     ]
    }
   ],
   "source": [
    "knn = KNeighborsRegressor()\n",
    "parameters = {'n_neighbors':np.arange(1,20,1)}\n",
    "\n",
    "gs = GridSearchCV(knn, parameters, scoring='neg_root_mean_squared_error',cv=5)\n",
    "\n",
    "#fit the grid search\n",
    "gs.fit(X_train,y_train)\n",
    "\n",
    "# best estimator\n",
    "print('grid search best score: ',gs.best_score_)\n",
    "print('grid search best params: ',gs.best_params_)\n",
    "\n",
    "# best model\n",
    "best_model = gs.best_estimator_\n",
    "best_model.fit(X_train,y_train)\n",
    "print('rmse knn:',mean_squared_error(y_test, best_model.predict(X_test), squared=False))\n"
   ]
  },
  {
   "cell_type": "code",
   "execution_count": 32,
   "id": "a70469ec-6b76-40ab-98ce-f73f3d97e70b",
   "metadata": {
    "collapsed": true,
    "jupyter": {
     "outputs_hidden": true
    },
    "tags": []
   },
   "outputs": [
    {
     "name": "stdout",
     "output_type": "stream",
     "text": [
      "\n",
      "bestTest = 0.04735425746\n",
      "bestIteration = 993\n",
      "\n",
      "\n",
      "bestTest = 0.04730757493\n",
      "bestIteration = 843\n",
      "\n",
      "\n",
      "bestTest = 0.04737143368\n",
      "bestIteration = 994\n",
      "\n",
      "\n",
      "bestTest = 0.04717644716\n",
      "bestIteration = 988\n",
      "\n",
      "\n",
      "bestTest = 0.04737190344\n",
      "bestIteration = 993\n",
      "\n",
      "\n",
      "bestTest = 0.04718046602\n",
      "bestIteration = 897\n",
      "\n",
      "\n",
      "bestTest = 0.04735155588\n",
      "bestIteration = 989\n",
      "\n",
      "\n",
      "bestTest = 0.04720876963\n",
      "bestIteration = 851\n",
      "\n",
      "\n",
      "bestTest = 0.04738072607\n",
      "bestIteration = 990\n",
      "\n",
      "\n",
      "bestTest = 0.0471687939\n",
      "bestIteration = 890\n",
      "\n",
      "\n",
      "bestTest = 0.04658606257\n",
      "bestIteration = 979\n",
      "\n",
      "\n",
      "bestTest = 0.04655561601\n",
      "bestIteration = 375\n",
      "\n",
      "\n",
      "bestTest = 0.04673404023\n",
      "bestIteration = 946\n",
      "\n",
      "\n",
      "bestTest = 0.04654428235\n",
      "bestIteration = 545\n",
      "\n",
      "\n",
      "bestTest = 0.04675749884\n",
      "bestIteration = 960\n",
      "\n",
      "\n",
      "bestTest = 0.04637043255\n",
      "bestIteration = 530\n",
      "\n",
      "\n",
      "bestTest = 0.04677596514\n",
      "bestIteration = 947\n",
      "\n",
      "\n",
      "bestTest = 0.04650821245\n",
      "bestIteration = 796\n",
      "\n",
      "\n",
      "bestTest = 0.0468531715\n",
      "bestIteration = 994\n",
      "\n",
      "\n",
      "bestTest = 0.04668290505\n",
      "bestIteration = 704\n",
      "\n",
      "\n",
      "bestTest = 0.04599966272\n",
      "bestIteration = 966\n",
      "\n",
      "\n",
      "bestTest = 0.04622964042\n",
      "bestIteration = 275\n",
      "\n",
      "\n",
      "bestTest = 0.04655531645\n",
      "bestIteration = 856\n",
      "\n",
      "\n",
      "bestTest = 0.04619291849\n",
      "bestIteration = 373\n",
      "\n",
      "\n",
      "bestTest = 0.04626820186\n",
      "bestIteration = 991\n",
      "\n",
      "\n",
      "bestTest = 0.04647633853\n",
      "bestIteration = 416\n",
      "\n",
      "\n",
      "bestTest = 0.04656549382\n",
      "bestIteration = 999\n",
      "\n",
      "\n",
      "bestTest = 0.04658538524\n",
      "bestIteration = 322\n",
      "\n",
      "\n",
      "bestTest = 0.0466262204\n",
      "bestIteration = 988\n",
      "\n",
      "\n",
      "bestTest = 0.04629924481\n",
      "bestIteration = 428\n",
      "\n",
      "Training on fold [0/3]\n",
      "\n",
      "bestTest = 0.049785831\n",
      "bestIteration = 741\n",
      "\n",
      "Training on fold [1/3]\n",
      "\n",
      "bestTest = 0.04884370346\n",
      "bestIteration = 465\n",
      "\n",
      "Training on fold [2/3]\n",
      "\n",
      "bestTest = 0.0482251061\n",
      "bestIteration = 691\n",
      "\n"
     ]
    }
   ],
   "source": [
    "cat = CatBoostRegressor(verbose = False)\n",
    "grid = {'learning_rate': [0.03, 0.1],\n",
    "        'depth': [2, 4, 6],\n",
    "        'l2_leaf_reg': [1, 3, 5, 7, 9]}\n",
    "\n",
    "grid_search_result = cat.grid_search(grid, X=X_train, y=y_train,verbose = 0)"
   ]
  },
  {
   "cell_type": "code",
   "execution_count": 43,
   "id": "b69d96b3-8a7f-40df-a910-bee86085e86b",
   "metadata": {},
   "outputs": [
    {
     "data": {
      "text/plain": [
       "{'depth': 6, 'l2_leaf_reg': 1, 'learning_rate': 0.03}"
      ]
     },
     "execution_count": 43,
     "metadata": {},
     "output_type": "execute_result"
    }
   ],
   "source": [
    "grid_search_result['params']"
   ]
  },
  {
   "cell_type": "code",
   "execution_count": 44,
   "id": "7c4c4baf-e920-4558-91db-98ef9c6745b7",
   "metadata": {},
   "outputs": [
    {
     "name": "stdout",
     "output_type": "stream",
     "text": [
      "rmse cat: 0.04821004185538346\n"
     ]
    }
   ],
   "source": [
    "cat = CatBoostRegressor(verbose = False,depth = 6,l2_leaf_reg = 1,learning_rate = 0.03)\n",
    "cat.fit(X_train,y_train)\n",
    "print('rmse cat:',mean_squared_error(y_test, cat.predict(X_test), squared=False))\n"
   ]
  },
  {
   "cell_type": "code",
   "execution_count": null,
   "id": "98fd5974-c955-42ca-b427-b2833d2657a1",
   "metadata": {},
   "outputs": [],
   "source": []
  }
 ],
 "metadata": {
  "kernelspec": {
   "display_name": "py39",
   "language": "python",
   "name": "py39"
  },
  "language_info": {
   "codemirror_mode": {
    "name": "ipython",
    "version": 3
   },
   "file_extension": ".py",
   "mimetype": "text/x-python",
   "name": "python",
   "nbconvert_exporter": "python",
   "pygments_lexer": "ipython3",
   "version": "3.9.13"
  }
 },
 "nbformat": 4,
 "nbformat_minor": 5
}
