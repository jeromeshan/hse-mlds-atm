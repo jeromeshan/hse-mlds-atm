{
 "cells": [
  {
   "cell_type": "code",
   "execution_count": 1,
   "id": "5f7b49d7",
   "metadata": {},
   "outputs": [],
   "source": [
    "from bs4 import BeautifulSoup as bs\n",
    "import pandas as pd"
   ]
  },
  {
   "cell_type": "code",
   "execution_count": 2,
   "id": "d1d2fd22",
   "metadata": {},
   "outputs": [],
   "source": [
    "tree = bs(open(\"parse_types.htm\", encoding=\"utf-8\").read())"
   ]
  },
  {
   "cell_type": "code",
   "execution_count": 3,
   "id": "bf4e07de",
   "metadata": {},
   "outputs": [],
   "source": [
    "TO_FIND = \"/wiki/Tag:\"\n",
    "\n",
    "catall = []\n",
    "\n",
    "for i in tree.select(\"a[href*='wiki/Tag']\"):\n",
    "    full_link = i['href'].replace(\"%3A\",\":\").replace(\"%3D\",\"=\")\n",
    "    real_link = full_link[full_link.find(TO_FIND) + len(TO_FIND):]\n",
    "    if \"=\" in real_link:\n",
    "        key, value = real_link.split(\"=\")\n",
    "        catall.append([key, value])"
   ]
  },
  {
   "cell_type": "code",
   "execution_count": 4,
   "id": "586c914a",
   "metadata": {},
   "outputs": [],
   "source": [
    "pd.DataFrame(catall, columns=['key', 'value']).to_csv('found_cut.csv', index=False)"
   ]
  },
  {
   "cell_type": "code",
   "execution_count": 5,
   "id": "6554e852",
   "metadata": {},
   "outputs": [
    {
     "data": {
      "text/html": [
       "<div>\n",
       "<style scoped>\n",
       "    .dataframe tbody tr th:only-of-type {\n",
       "        vertical-align: middle;\n",
       "    }\n",
       "\n",
       "    .dataframe tbody tr th {\n",
       "        vertical-align: top;\n",
       "    }\n",
       "\n",
       "    .dataframe thead th {\n",
       "        text-align: right;\n",
       "    }\n",
       "</style>\n",
       "<table border=\"1\" class=\"dataframe\">\n",
       "  <thead>\n",
       "    <tr style=\"text-align: right;\">\n",
       "      <th></th>\n",
       "      <th>key</th>\n",
       "      <th>value</th>\n",
       "    </tr>\n",
       "  </thead>\n",
       "  <tbody>\n",
       "    <tr>\n",
       "      <th>0</th>\n",
       "      <td>highway</td>\n",
       "      <td>footway</td>\n",
       "    </tr>\n",
       "    <tr>\n",
       "      <th>1</th>\n",
       "      <td>aerialway</td>\n",
       "      <td>cable_car</td>\n",
       "    </tr>\n",
       "    <tr>\n",
       "      <th>2</th>\n",
       "      <td>aerialway</td>\n",
       "      <td>gondola</td>\n",
       "    </tr>\n",
       "    <tr>\n",
       "      <th>3</th>\n",
       "      <td>aerialway</td>\n",
       "      <td>mixed_lift</td>\n",
       "    </tr>\n",
       "    <tr>\n",
       "      <th>4</th>\n",
       "      <td>aerialway</td>\n",
       "      <td>chair_lift</td>\n",
       "    </tr>\n",
       "    <tr>\n",
       "      <th>...</th>\n",
       "      <td>...</td>\n",
       "      <td>...</td>\n",
       "    </tr>\n",
       "    <tr>\n",
       "      <th>1455</th>\n",
       "      <td>oneway</td>\n",
       "      <td>no</td>\n",
       "    </tr>\n",
       "    <tr>\n",
       "      <th>1456</th>\n",
       "      <td>oneway</td>\n",
       "      <td>-1</td>\n",
       "    </tr>\n",
       "    <tr>\n",
       "      <th>1457</th>\n",
       "      <td>highway</td>\n",
       "      <td>motorway</td>\n",
       "    </tr>\n",
       "    <tr>\n",
       "      <th>1458</th>\n",
       "      <td>barrier</td>\n",
       "      <td>toll_booth</td>\n",
       "    </tr>\n",
       "    <tr>\n",
       "      <th>1459</th>\n",
       "      <td>traffic_sign</td>\n",
       "      <td>city_limit</td>\n",
       "    </tr>\n",
       "  </tbody>\n",
       "</table>\n",
       "<p>1460 rows × 2 columns</p>\n",
       "</div>"
      ],
      "text/plain": [
       "               key       value\n",
       "0          highway     footway\n",
       "1        aerialway   cable_car\n",
       "2        aerialway     gondola\n",
       "3        aerialway  mixed_lift\n",
       "4        aerialway  chair_lift\n",
       "...            ...         ...\n",
       "1455        oneway          no\n",
       "1456        oneway          -1\n",
       "1457       highway    motorway\n",
       "1458       barrier  toll_booth\n",
       "1459  traffic_sign  city_limit\n",
       "\n",
       "[1460 rows x 2 columns]"
      ]
     },
     "execution_count": 5,
     "metadata": {},
     "output_type": "execute_result"
    }
   ],
   "source": [
    "pd.DataFrame(catall, columns=['key', 'value'])"
   ]
  },
  {
   "cell_type": "code",
   "execution_count": null,
   "id": "06357021",
   "metadata": {},
   "outputs": [],
   "source": []
  }
 ],
 "metadata": {
  "kernelspec": {
   "display_name": "Python 3 (ipykernel)",
   "language": "python",
   "name": "python3"
  },
  "language_info": {
   "codemirror_mode": {
    "name": "ipython",
    "version": 3
   },
   "file_extension": ".py",
   "mimetype": "text/x-python",
   "name": "python",
   "nbconvert_exporter": "python",
   "pygments_lexer": "ipython3",
   "version": "3.9.13"
  }
 },
 "nbformat": 4,
 "nbformat_minor": 5
}
