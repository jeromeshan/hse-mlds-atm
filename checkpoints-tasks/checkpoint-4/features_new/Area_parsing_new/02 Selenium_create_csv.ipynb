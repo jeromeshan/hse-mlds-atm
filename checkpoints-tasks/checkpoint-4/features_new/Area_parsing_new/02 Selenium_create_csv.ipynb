{
 "cells": [
  {
   "cell_type": "code",
   "execution_count": 1,
   "id": "aaf7f023",
   "metadata": {},
   "outputs": [],
   "source": [
    "import pandas as pd\n",
    "from os import walk\n",
    "from os.path import join as pjoin\n",
    "from tqdm import tqdm\n",
    "\n",
    "#В этой части вытаскиваем нужные данные из скаченных файлов и собираем в csv"
   ]
  },
  {
   "cell_type": "code",
   "execution_count": 36,
   "id": "858b7e62",
   "metadata": {},
   "outputs": [
    {
     "data": {
      "text/plain": [
       "85"
      ]
     },
     "execution_count": 36,
     "metadata": {},
     "output_type": "execute_result"
    }
   ],
   "source": [
    "#Скачанные файлы заранее положили в отдельную папку \"reestrs\"\n",
    "\n",
    "PATH = \"reestrs\"\n",
    "files = [(pjoin(PATH, f), f) for f in list(walk(PATH))[0][2] if f.endswith(\".csv\")]\n",
    "#создаём список из названий файлов - получаем список списков. \n",
    "#Выбираем результат [0][2] - получаем список файлов. И джойним каждый файл с названием папки\n",
    "\n",
    "len(files) #Ничего не потерялось"
   ]
  },
  {
   "cell_type": "code",
   "execution_count": 45,
   "id": "8d35c4d9",
   "metadata": {},
   "outputs": [
    {
     "name": "stderr",
     "output_type": "stream",
     "text": [
      "100%|██████████████████████████████████████████████████████████████████████████████████| 85/85 [00:32<00:00,  2.61it/s]\n"
     ]
    },
    {
     "data": {
      "text/html": [
       "<div>\n",
       "<style scoped>\n",
       "    .dataframe tbody tr th:only-of-type {\n",
       "        vertical-align: middle;\n",
       "    }\n",
       "\n",
       "    .dataframe tbody tr th {\n",
       "        vertical-align: top;\n",
       "    }\n",
       "\n",
       "    .dataframe thead th {\n",
       "        text-align: right;\n",
       "    }\n",
       "</style>\n",
       "<table border=\"1\" class=\"dataframe\">\n",
       "  <thead>\n",
       "    <tr style=\"text-align: right;\">\n",
       "      <th></th>\n",
       "      <th>id</th>\n",
       "      <th>address</th>\n",
       "      <th>area_residential</th>\n",
       "      <th>filename</th>\n",
       "    </tr>\n",
       "  </thead>\n",
       "  <tbody>\n",
       "    <tr>\n",
       "      <th>0</th>\n",
       "      <td>9001067</td>\n",
       "      <td>Респ. Адыгея, г. Адыгейск, д. 888888</td>\n",
       "      <td>2,00</td>\n",
       "      <td>export-reestrmkd-01-20221101.csv</td>\n",
       "    </tr>\n",
       "    <tr>\n",
       "      <th>1</th>\n",
       "      <td>6472757</td>\n",
       "      <td>Респ. Адыгея, г. Адыгейск, ул. Горького, д. 25</td>\n",
       "      <td>1818,00</td>\n",
       "      <td>export-reestrmkd-01-20221101.csv</td>\n",
       "    </tr>\n",
       "    <tr>\n",
       "      <th>2</th>\n",
       "      <td>6472669</td>\n",
       "      <td>Респ. Адыгея, г. Адыгейск, ул. Горького, д. 27</td>\n",
       "      <td>1818,00</td>\n",
       "      <td>export-reestrmkd-01-20221101.csv</td>\n",
       "    </tr>\n",
       "    <tr>\n",
       "      <th>3</th>\n",
       "      <td>8928733</td>\n",
       "      <td>Респ. Адыгея, г. Адыгейск, ул. Горького, д. 31</td>\n",
       "      <td>2729,00</td>\n",
       "      <td>export-reestrmkd-01-20221101.csv</td>\n",
       "    </tr>\n",
       "    <tr>\n",
       "      <th>4</th>\n",
       "      <td>6551241</td>\n",
       "      <td>Респ. Адыгея, г. Адыгейск, ул. Коммунистическа...</td>\n",
       "      <td>2522,00</td>\n",
       "      <td>export-reestrmkd-01-20221101.csv</td>\n",
       "    </tr>\n",
       "    <tr>\n",
       "      <th>...</th>\n",
       "      <td>...</td>\n",
       "      <td>...</td>\n",
       "      <td>...</td>\n",
       "      <td>...</td>\n",
       "    </tr>\n",
       "    <tr>\n",
       "      <th>828004</th>\n",
       "      <td>9103545</td>\n",
       "      <td>г. Севастополь, ул. Ярославская, д. 30</td>\n",
       "      <td>71,30</td>\n",
       "      <td>export-reestrmkd-92-20221101.csv</td>\n",
       "    </tr>\n",
       "    <tr>\n",
       "      <th>828005</th>\n",
       "      <td>9103546</td>\n",
       "      <td>г. Севастополь, ул. Ярославская, д. 33</td>\n",
       "      <td>71,30</td>\n",
       "      <td>export-reestrmkd-92-20221101.csv</td>\n",
       "    </tr>\n",
       "    <tr>\n",
       "      <th>828006</th>\n",
       "      <td>9103547</td>\n",
       "      <td>г. Севастополь, ул. Ярославская, д. 40</td>\n",
       "      <td>72,00</td>\n",
       "      <td>export-reestrmkd-92-20221101.csv</td>\n",
       "    </tr>\n",
       "    <tr>\n",
       "      <th>828007</th>\n",
       "      <td>9098909</td>\n",
       "      <td>г. Севастополь, ул. Ясная, д. 1, лит. б</td>\n",
       "      <td>387,90</td>\n",
       "      <td>export-reestrmkd-92-20221101.csv</td>\n",
       "    </tr>\n",
       "    <tr>\n",
       "      <th>828008</th>\n",
       "      <td>9098911</td>\n",
       "      <td>г. Севастополь, ул. Ясная, д. 2, лит. б</td>\n",
       "      <td>390,20</td>\n",
       "      <td>export-reestrmkd-92-20221101.csv</td>\n",
       "    </tr>\n",
       "  </tbody>\n",
       "</table>\n",
       "<p>828009 rows × 4 columns</p>\n",
       "</div>"
      ],
      "text/plain": [
       "             id                                            address  \\\n",
       "0       9001067               Респ. Адыгея, г. Адыгейск, д. 888888   \n",
       "1       6472757     Респ. Адыгея, г. Адыгейск, ул. Горького, д. 25   \n",
       "2       6472669     Респ. Адыгея, г. Адыгейск, ул. Горького, д. 27   \n",
       "3       8928733     Респ. Адыгея, г. Адыгейск, ул. Горького, д. 31   \n",
       "4       6551241  Респ. Адыгея, г. Адыгейск, ул. Коммунистическа...   \n",
       "...         ...                                                ...   \n",
       "828004  9103545             г. Севастополь, ул. Ярославская, д. 30   \n",
       "828005  9103546             г. Севастополь, ул. Ярославская, д. 33   \n",
       "828006  9103547             г. Севастополь, ул. Ярославская, д. 40   \n",
       "828007  9098909            г. Севастополь, ул. Ясная, д. 1, лит. б   \n",
       "828008  9098911            г. Севастополь, ул. Ясная, д. 2, лит. б   \n",
       "\n",
       "       area_residential                          filename  \n",
       "0                  2,00  export-reestrmkd-01-20221101.csv  \n",
       "1               1818,00  export-reestrmkd-01-20221101.csv  \n",
       "2               1818,00  export-reestrmkd-01-20221101.csv  \n",
       "3               2729,00  export-reestrmkd-01-20221101.csv  \n",
       "4               2522,00  export-reestrmkd-01-20221101.csv  \n",
       "...                 ...                               ...  \n",
       "828004            71,30  export-reestrmkd-92-20221101.csv  \n",
       "828005            71,30  export-reestrmkd-92-20221101.csv  \n",
       "828006            72,00  export-reestrmkd-92-20221101.csv  \n",
       "828007           387,90  export-reestrmkd-92-20221101.csv  \n",
       "828008           390,20  export-reestrmkd-92-20221101.csv  \n",
       "\n",
       "[828009 rows x 4 columns]"
      ]
     },
     "execution_count": 45,
     "metadata": {},
     "output_type": "execute_result"
    }
   ],
   "source": [
    "cols = ['id', 'address', 'area_residential'] \n",
    "#нужные нам колонки из файлов с данными\n",
    "\n",
    "values = []\n",
    "\n",
    "for filepath, filename in tqdm(files):\n",
    "    df = pd.read_csv(filepath, delimiter=\";\", low_memory=False)[cols].dropna()\n",
    "    for _, i in df.iterrows():\n",
    "        value = []\n",
    "        value.extend([i[col] for col in cols])\n",
    "        value.append(filename)\n",
    "        values.append(value)\n",
    "\n",
    "cols.append('filename')\n",
    "df_united = pd.DataFrame(values, columns=cols)\n",
    "df_united"
   ]
  },
  {
   "cell_type": "code",
   "execution_count": 46,
   "id": "7eba4d3b",
   "metadata": {},
   "outputs": [],
   "source": [
    "df_united.to_csv('united_reestr.csv')"
   ]
  },
  {
   "cell_type": "code",
   "execution_count": null,
   "id": "af188b98",
   "metadata": {},
   "outputs": [],
   "source": []
  }
 ],
 "metadata": {
  "kernelspec": {
   "display_name": "Python 3 (ipykernel)",
   "language": "python",
   "name": "python3"
  },
  "language_info": {
   "codemirror_mode": {
    "name": "ipython",
    "version": 3
   },
   "file_extension": ".py",
   "mimetype": "text/x-python",
   "name": "python",
   "nbconvert_exporter": "python",
   "pygments_lexer": "ipython3",
   "version": "3.9.13"
  }
 },
 "nbformat": 4,
 "nbformat_minor": 5
}
