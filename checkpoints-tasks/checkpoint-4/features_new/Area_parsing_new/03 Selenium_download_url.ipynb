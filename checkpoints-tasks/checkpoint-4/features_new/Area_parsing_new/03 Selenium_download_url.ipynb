{
 "cells": [
  {
   "cell_type": "code",
   "execution_count": 1,
   "id": "aff35724",
   "metadata": {},
   "outputs": [],
   "source": [
    "from selenium import webdriver\n",
    "from selenium.webdriver.chrome.options import Options\n",
    "from selenium.webdriver.common.by import By\n",
    "from tqdm import tqdm\n",
    "import pandas as pd\n",
    "import threading\n",
    "import psutil, multiprocessing\n",
    "from os import walk\n",
    "\n",
    "#В этой части при помощи selenium находим адреса на google-картах и сохраняем координаты (в сыром виде, как ссылки)"
   ]
  },
  {
   "cell_type": "code",
   "execution_count": 3,
   "id": "8fb6af25",
   "metadata": {},
   "outputs": [],
   "source": [
    "def make_driver():\n",
    "    option = Options()\n",
    "    option.headless = True\n",
    "    option.add_argument(\"--disable-gpu\")  \n",
    "    prefs = {'profile.default_content_setting_values': {'images':2, 'javascript':2}}\n",
    "    driver = webdriver.Chrome(\".\\\\chromedriver.exe\", options=option)\n",
    "    driver.get(\"about:blank\")\n",
    "    return driver"
   ]
  },
  {
   "cell_type": "code",
   "execution_count": 4,
   "id": "3f5a7b25",
   "metadata": {},
   "outputs": [],
   "source": [
    "#Функция, которая выдаёт txt-файл с координатами (в сыром виде)\n",
    "\n",
    "URLsearch = lambda x: f\"https://www.google.com/maps/search/{x}\"\n",
    "\n",
    "def one_task(values, driver_unformed):\n",
    "    driver = driver_unformed() #Передадим сюда функцию, которая запускает драйвер \n",
    "    for v in values: #В values передадим список с частью строк из df\n",
    "        try:\n",
    "            id, address = v\n",
    "            driver.get(URLsearch(address))\n",
    "            \n",
    "            #Взяла селектор CSS из статьи\n",
    "            #https://medium.com/nuances-of-programming/python-selenium-как-получить-координаты-по-адресам-ea7a78ffdc0d\n",
    "            for c in driver.find_elements(By.CSS_SELECTOR, 'meta[itemprop=image]'):\n",
    "                #Заранее создаём папку nts\n",
    "                #Создаём в ней txt файл и записываем туда то, что нашли по CSS-селектору\n",
    "                with open(f\"nts\\\\{id}.txt\", \"w\", encoding=\"utf-8\") as f:\n",
    "                    f.write(f\"{c.get_attribute('content')}\")\n",
    "                break\n",
    "        except Exception as e:\n",
    "            print(f\"ERROR: {e}\")\n",
    "    driver.close()"
   ]
  },
  {
   "cell_type": "code",
   "execution_count": 5,
   "id": "f701f2e2",
   "metadata": {},
   "outputs": [
    {
     "data": {
      "text/html": [
       "<div>\n",
       "<style scoped>\n",
       "    .dataframe tbody tr th:only-of-type {\n",
       "        vertical-align: middle;\n",
       "    }\n",
       "\n",
       "    .dataframe tbody tr th {\n",
       "        vertical-align: top;\n",
       "    }\n",
       "\n",
       "    .dataframe thead th {\n",
       "        text-align: right;\n",
       "    }\n",
       "</style>\n",
       "<table border=\"1\" class=\"dataframe\">\n",
       "  <thead>\n",
       "    <tr style=\"text-align: right;\">\n",
       "      <th></th>\n",
       "      <th>id</th>\n",
       "      <th>address</th>\n",
       "    </tr>\n",
       "  </thead>\n",
       "  <tbody>\n",
       "    <tr>\n",
       "      <th>0</th>\n",
       "      <td>9001067</td>\n",
       "      <td>Респ. Адыгея, г. Адыгейск, д. 888888</td>\n",
       "    </tr>\n",
       "    <tr>\n",
       "      <th>1</th>\n",
       "      <td>6472757</td>\n",
       "      <td>Респ. Адыгея, г. Адыгейск, ул. Горького, д. 25</td>\n",
       "    </tr>\n",
       "    <tr>\n",
       "      <th>2</th>\n",
       "      <td>6472669</td>\n",
       "      <td>Респ. Адыгея, г. Адыгейск, ул. Горького, д. 27</td>\n",
       "    </tr>\n",
       "    <tr>\n",
       "      <th>3</th>\n",
       "      <td>8928733</td>\n",
       "      <td>Респ. Адыгея, г. Адыгейск, ул. Горького, д. 31</td>\n",
       "    </tr>\n",
       "    <tr>\n",
       "      <th>4</th>\n",
       "      <td>6551241</td>\n",
       "      <td>Респ. Адыгея, г. Адыгейск, ул. Коммунистическа...</td>\n",
       "    </tr>\n",
       "    <tr>\n",
       "      <th>...</th>\n",
       "      <td>...</td>\n",
       "      <td>...</td>\n",
       "    </tr>\n",
       "    <tr>\n",
       "      <th>828004</th>\n",
       "      <td>9103545</td>\n",
       "      <td>г. Севастополь, ул. Ярославская, д. 30</td>\n",
       "    </tr>\n",
       "    <tr>\n",
       "      <th>828005</th>\n",
       "      <td>9103546</td>\n",
       "      <td>г. Севастополь, ул. Ярославская, д. 33</td>\n",
       "    </tr>\n",
       "    <tr>\n",
       "      <th>828006</th>\n",
       "      <td>9103547</td>\n",
       "      <td>г. Севастополь, ул. Ярославская, д. 40</td>\n",
       "    </tr>\n",
       "    <tr>\n",
       "      <th>828007</th>\n",
       "      <td>9098909</td>\n",
       "      <td>г. Севастополь, ул. Ясная, д. 1, лит. б</td>\n",
       "    </tr>\n",
       "    <tr>\n",
       "      <th>828008</th>\n",
       "      <td>9098911</td>\n",
       "      <td>г. Севастополь, ул. Ясная, д. 2, лит. б</td>\n",
       "    </tr>\n",
       "  </tbody>\n",
       "</table>\n",
       "<p>828006 rows × 2 columns</p>\n",
       "</div>"
      ],
      "text/plain": [
       "             id                                            address\n",
       "0       9001067               Респ. Адыгея, г. Адыгейск, д. 888888\n",
       "1       6472757     Респ. Адыгея, г. Адыгейск, ул. Горького, д. 25\n",
       "2       6472669     Респ. Адыгея, г. Адыгейск, ул. Горького, д. 27\n",
       "3       8928733     Респ. Адыгея, г. Адыгейск, ул. Горького, д. 31\n",
       "4       6551241  Респ. Адыгея, г. Адыгейск, ул. Коммунистическа...\n",
       "...         ...                                                ...\n",
       "828004  9103545             г. Севастополь, ул. Ярославская, д. 30\n",
       "828005  9103546             г. Севастополь, ул. Ярославская, д. 33\n",
       "828006  9103547             г. Севастополь, ул. Ярославская, д. 40\n",
       "828007  9098909            г. Севастополь, ул. Ясная, д. 1, лит. б\n",
       "828008  9098911            г. Севастополь, ул. Ясная, д. 2, лит. б\n",
       "\n",
       "[828006 rows x 2 columns]"
      ]
     },
     "execution_count": 5,
     "metadata": {},
     "output_type": "execute_result"
    }
   ],
   "source": [
    "df = pd.read_csv('united_reestr.csv')[['id', 'address']].drop_duplicates()\n",
    "df"
   ]
  },
  {
   "cell_type": "code",
   "execution_count": 6,
   "id": "c810ed07",
   "metadata": {},
   "outputs": [],
   "source": [
    "#Пропускаем строки, которые уже обработали \n",
    "\n",
    "#Возвращаем содержимое файла n, чтобы записать потом в csv-файл и удалить txt\n",
    "def skipped_f(n):\n",
    "    with open(f\"nts\\\\{n}\", encoding=\"utf-8\") as f:\n",
    "        return ''.join(f.readlines())\n",
    "\n",
    "#Создаём df с id и url(в котором есть координаты) и записываем его в файл.\n",
    "#Возвращаем df_skip, чтобы потом взять из него id, которые уже обработали\n",
    "def skipped_to_df(first_time=False):\n",
    "    \n",
    "    if not first_time:\n",
    "        df_already = pd.read_csv(\"nts.csv\")\n",
    "    \n",
    "    for i,j,k in walk('nts'):\n",
    "        break\n",
    "    df_files = pd.DataFrame(\n",
    "        #Получаем из названия файла id, далее получаем содержимое файла - добавляем в кортеж\n",
    "        [(int(k0.replace(\".txt\", \"\")), skipped_f(k0)) for k0 in k],\n",
    "        columns = [\"id\", \"url\"] #внутри url лежат координаты\n",
    "    )\n",
    "    \n",
    "    #Если запускаем не первый раз - добавляем к предыдущему результату\n",
    "    df_skip = df_files if first_time else pd.merge(df_already, df_files, how=\"outer\")\n",
    "    \n",
    "    #Записываем в файл (или перезаписываем)\n",
    "    df_skip.to_csv(\"nts.csv\", index=False)\n",
    "    return df_skip\n",
    "\n",
    "\n",
    "# def skipper_oldver():\n",
    "#     for i,j,k in walk('nts'):\n",
    "#         break\n",
    "#     return [int(k0.replace(\".txt\", \"\")) for k0 in k]\n",
    "\n",
    "skipper = lambda: skipped_to_df()['id'].tolist()"
   ]
  },
  {
   "cell_type": "code",
   "execution_count": 62,
   "id": "8a934cb3",
   "metadata": {},
   "outputs": [
    {
     "data": {
      "text/plain": [
       "('0 threads', '0 tasks per thread', '0 total (0 skipped)')"
      ]
     },
     "execution_count": 62,
     "metadata": {},
     "output_type": "execute_result"
    }
   ],
   "source": [
    "#Подготовка потоков к запуску\n",
    "\n",
    "LIMIT = 1000 #133312 #26656 #113760 - количество строк, которе запускалось за один раз\n",
    "SYS_THREADS = 16 #количество ядер\n",
    "TIMES_PER_THREAD = 2 #сколько потоков на ядро\n",
    "\n",
    "THREAD_LIMIT = SYS_THREADS * TIMES_PER_THREAD\n",
    "\n",
    "# 1:45 for 100/4, 8:00 for 1000/8, 5:00 for 1000/16, 4:31 for 1000/32, 4:58 for 1000/(16 * 3)\n",
    "\n",
    "#сколько строк на каждый поток (в теории)\n",
    "IN_LIMIT = LIMIT // THREAD_LIMIT \n",
    "\n",
    "skips = skipper() \n",
    "unskipped = df[~df['id'].isin(skips)]\n",
    "unskipped_ids = unskipped['id'].tolist()[:LIMIT]\n",
    "unskipped_addrs = unskipped['address'].tolist()[:LIMIT]\n",
    "\n",
    "#сколько строк на каждый поток\n",
    "per = max(1, len(unskipped_ids) // THREAD_LIMIT) \n",
    "pairs = list(zip(unskipped_ids, unskipped_addrs)) \n",
    "\n",
    "#списки по 32 элемента (т.к. у нас 32 потока)\n",
    "values = [pairs[i:i+per] for i in range(0, len(pairs), per)][:THREAD_LIMIT] \n",
    "\n",
    "threads = [threading.Thread(target=one_task, args=(v, make_driver)) for v in values]\n",
    "\n",
    "#Хотим понять, сколько закачается за ночь\n",
    "stat1, stat2 = len(values), len(values[0]) if values else 0\n",
    "stat_total = stat1 * stat2\n",
    "stat_skipped = len(unskipped_ids) - stat_total \n",
    "(f\"{stat1} threads\", f\"{stat2} tasks per thread\", f\"{stat_total} total ({stat_skipped} skipped)\")"
   ]
  },
  {
   "cell_type": "code",
   "execution_count": 61,
   "id": "a11ef202",
   "metadata": {},
   "outputs": [
    {
     "name": "stderr",
     "output_type": "stream",
     "text": [
      "C:\\Users\\spopkov\\AppData\\Local\\Temp\\ipykernel_2000\\3630013382.py:6: DeprecationWarning: executable_path has been deprecated, please pass in a Service object\n",
      "  driver = webdriver.Chrome(\".\\\\chromedriver.exe\", options=option)\n"
     ]
    },
    {
     "name": "stdout",
     "output_type": "stream",
     "text": [
      "\n",
      "CPU times: total: 438 ms\n",
      "Wall time: 9.03 s\n"
     ]
    }
   ],
   "source": [
    "%%time\n",
    "#Запускаем вот это вот всё\n",
    "\n",
    "SKIP_IT = False #Чтобы случайно не запустить ячейку\n",
    "\n",
    "if not SKIP_IT:\n",
    "    [thread.start() for thread in threads]\n",
    "    [thread.join() for thread in threads]\n",
    "\n",
    "print()"
   ]
  },
  {
   "cell_type": "code",
   "execution_count": 58,
   "id": "43a705d9",
   "metadata": {},
   "outputs": [
    {
     "name": "stderr",
     "output_type": "stream",
     "text": [
      "ERROR: The process \"chromedriver.exe\" not found.\n"
     ]
    }
   ],
   "source": [
    "!taskkill /im chromedriver.exe /f"
   ]
  },
  {
   "cell_type": "code",
   "execution_count": 42,
   "id": "fb542d33",
   "metadata": {},
   "outputs": [
    {
     "data": {
      "text/plain": [
       "'10 hours: between 133312 - 142208'"
      ]
     },
     "execution_count": 42,
     "metadata": {},
     "output_type": "execute_result"
    }
   ],
   "source": [
    "#Хотим понять, сколько закачается за ночь\n",
    "\n",
    "HOURS = 10\n",
    "\n",
    "mintasks = int((1000 * 60 / 4.5) * HOURS + 1) // 32 * 32\n",
    "maxtasks = (128000 // 9 * HOURS + 1) // 32 * 32 #128000 - реально закачалось за один раз\n",
    "f\"{HOURS} hours: between {mintasks} - {maxtasks}\""
   ]
  },
  {
   "cell_type": "code",
   "execution_count": 63,
   "id": "8dc155d8",
   "metadata": {},
   "outputs": [
    {
     "data": {
      "text/plain": [
       "828006"
      ]
     },
     "execution_count": 63,
     "metadata": {},
     "output_type": "execute_result"
    }
   ],
   "source": [
    "len(set(skips))"
   ]
  },
  {
   "cell_type": "code",
   "execution_count": null,
   "id": "9938e0a2",
   "metadata": {},
   "outputs": [],
   "source": []
  }
 ],
 "metadata": {
  "kernelspec": {
   "display_name": "Python 3 (ipykernel)",
   "language": "python",
   "name": "python3"
  },
  "language_info": {
   "codemirror_mode": {
    "name": "ipython",
    "version": 3
   },
   "file_extension": ".py",
   "mimetype": "text/x-python",
   "name": "python",
   "nbconvert_exporter": "python",
   "pygments_lexer": "ipython3",
   "version": "3.9.13"
  }
 },
 "nbformat": 4,
 "nbformat_minor": 5
}
