{
 "cells": [
  {
   "cell_type": "code",
   "execution_count": 1,
   "id": "57e804db-abac-40f8-b284-533cda82ed29",
   "metadata": {},
   "outputs": [],
   "source": [
    "import pandas as pd\n",
    "import geopandas as gpd\n",
    "from shapely.geometry import Polygon, Point\n",
    "import geopy.distance\n",
    "import geocoder\n",
    "from tqdm import tqdm\n"
   ]
  },
  {
   "cell_type": "code",
   "execution_count": 2,
   "id": "05c3077e-0175-457e-9e8a-3c2e372ccfad",
   "metadata": {},
   "outputs": [
    {
     "data": {
      "text/html": [
       "<div>\n",
       "<style scoped>\n",
       "    .dataframe tbody tr th:only-of-type {\n",
       "        vertical-align: middle;\n",
       "    }\n",
       "\n",
       "    .dataframe tbody tr th {\n",
       "        vertical-align: top;\n",
       "    }\n",
       "\n",
       "    .dataframe thead th {\n",
       "        text-align: right;\n",
       "    }\n",
       "</style>\n",
       "<table border=\"1\" class=\"dataframe\">\n",
       "  <thead>\n",
       "    <tr style=\"text-align: right;\">\n",
       "      <th></th>\n",
       "      <th>Unnamed: 0</th>\n",
       "      <th>id</th>\n",
       "      <th>atm_group</th>\n",
       "      <th>address</th>\n",
       "      <th>address_rus</th>\n",
       "      <th>lat</th>\n",
       "      <th>long</th>\n",
       "      <th>target</th>\n",
       "    </tr>\n",
       "  </thead>\n",
       "  <tbody>\n",
       "    <tr>\n",
       "      <th>0</th>\n",
       "      <td>0</td>\n",
       "      <td>8526.0</td>\n",
       "      <td>32.0</td>\n",
       "      <td>EMELYANOVA,34          Y-SAKHALINSK</td>\n",
       "      <td>улица А.О. Емельянова, 34, Южно-Сахалинск, Сах...</td>\n",
       "      <td>46.940995</td>\n",
       "      <td>142.738319</td>\n",
       "      <td>0.011500</td>\n",
       "    </tr>\n",
       "    <tr>\n",
       "      <th>1</th>\n",
       "      <td>1</td>\n",
       "      <td>8532.0</td>\n",
       "      <td>32.0</td>\n",
       "      <td>KOMSOMOLSKAYA,259B     Y.SAKHALINSK</td>\n",
       "      <td>Комсомольская улица, 259, Южно-Сахалинск, Саха...</td>\n",
       "      <td>46.937353</td>\n",
       "      <td>142.753348</td>\n",
       "      <td>0.029710</td>\n",
       "    </tr>\n",
       "    <tr>\n",
       "      <th>2</th>\n",
       "      <td>2</td>\n",
       "      <td>8533.0</td>\n",
       "      <td>32.0</td>\n",
       "      <td>KOMMUN. PR., 32        YUZHNO SAKHAL</td>\n",
       "      <td>Коммунистический проспект, Южно-Сахалинск, Сах...</td>\n",
       "      <td>46.959413</td>\n",
       "      <td>142.741113</td>\n",
       "      <td>0.009540</td>\n",
       "    </tr>\n",
       "    <tr>\n",
       "      <th>3</th>\n",
       "      <td>3</td>\n",
       "      <td>8684.0</td>\n",
       "      <td>32.0</td>\n",
       "      <td>LENINGRADSKIY PR.,76A  MOSCOW</td>\n",
       "      <td>Ленинградский проспект, 76А, Москва, Россия, 1...</td>\n",
       "      <td>55.805827</td>\n",
       "      <td>37.515146</td>\n",
       "      <td>-0.094035</td>\n",
       "    </tr>\n",
       "    <tr>\n",
       "      <th>4</th>\n",
       "      <td>4</td>\n",
       "      <td>37.0</td>\n",
       "      <td>32.0</td>\n",
       "      <td>GVARDEYSKAYA PL., 2    NORILSK</td>\n",
       "      <td>Гвардейская площадь, 2, Норильск, Красноярский...</td>\n",
       "      <td>69.343541</td>\n",
       "      <td>88.211228</td>\n",
       "      <td>0.079277</td>\n",
       "    </tr>\n",
       "  </tbody>\n",
       "</table>\n",
       "</div>"
      ],
      "text/plain": [
       "   Unnamed: 0      id  atm_group                                 address  \\\n",
       "0           0  8526.0       32.0  EMELYANOVA,34          Y-SAKHALINSK      \n",
       "1           1  8532.0       32.0  KOMSOMOLSKAYA,259B     Y.SAKHALINSK      \n",
       "2           2  8533.0       32.0  KOMMUN. PR., 32        YUZHNO SAKHAL     \n",
       "3           3  8684.0       32.0  LENINGRADSKIY PR.,76A  MOSCOW            \n",
       "4           4    37.0       32.0  GVARDEYSKAYA PL., 2    NORILSK           \n",
       "\n",
       "                                         address_rus        lat        long  \\\n",
       "0  улица А.О. Емельянова, 34, Южно-Сахалинск, Сах...  46.940995  142.738319   \n",
       "1  Комсомольская улица, 259, Южно-Сахалинск, Саха...  46.937353  142.753348   \n",
       "2  Коммунистический проспект, Южно-Сахалинск, Сах...  46.959413  142.741113   \n",
       "3  Ленинградский проспект, 76А, Москва, Россия, 1...  55.805827   37.515146   \n",
       "4  Гвардейская площадь, 2, Норильск, Красноярский...  69.343541   88.211228   \n",
       "\n",
       "     target  \n",
       "0  0.011500  \n",
       "1  0.029710  \n",
       "2  0.009540  \n",
       "3 -0.094035  \n",
       "4  0.079277  "
      ]
     },
     "execution_count": 2,
     "metadata": {},
     "output_type": "execute_result"
    }
   ],
   "source": [
    "concat_df = pd.read_csv('concat_df.csv')\n",
    "concat_df.head()"
   ]
  },
  {
   "cell_type": "code",
   "execution_count": 3,
   "id": "6ed94902-e433-4fc5-9aa8-05e0b2af1365",
   "metadata": {},
   "outputs": [
    {
     "data": {
      "text/plain": [
       "Unnamed: 0        0\n",
       "id                0\n",
       "atm_group         0\n",
       "address           0\n",
       "address_rus     116\n",
       "lat               0\n",
       "long              0\n",
       "target         2504\n",
       "dtype: int64"
      ]
     },
     "execution_count": 3,
     "metadata": {},
     "output_type": "execute_result"
    }
   ],
   "source": [
    "for i,row in concat_df.iterrows():\n",
    "    "
   ]
  },
  {
   "cell_type": "code",
   "execution_count": null,
   "id": "b02da972-343f-4f3d-9296-d26a7a67bcbe",
   "metadata": {},
   "outputs": [],
   "source": []
  },
  {
   "cell_type": "code",
   "execution_count": null,
   "id": "aea3857d-ff62-48bc-a3b6-258f1928cedb",
   "metadata": {},
   "outputs": [],
   "source": []
  },
  {
   "cell_type": "code",
   "execution_count": null,
   "id": "cc9c47b3-c538-43d7-9f4e-b32368c2592f",
   "metadata": {},
   "outputs": [],
   "source": []
  },
  {
   "cell_type": "code",
   "execution_count": null,
   "id": "c523a6b1-1a2b-4833-85a3-20a47a8a470f",
   "metadata": {},
   "outputs": [],
   "source": []
  },
  {
   "cell_type": "code",
   "execution_count": null,
   "id": "8b6433ea-97a0-4903-9d6c-46b1b1b21f25",
   "metadata": {},
   "outputs": [],
   "source": []
  },
  {
   "cell_type": "code",
   "execution_count": null,
   "id": "f85af05b-7360-45ed-8119-88c090914d2b",
   "metadata": {},
   "outputs": [],
   "source": []
  },
  {
   "cell_type": "code",
   "execution_count": null,
   "id": "6422a278-8746-4e9c-87e1-f6202986a507",
   "metadata": {},
   "outputs": [],
   "source": []
  }
 ],
 "metadata": {
  "kernelspec": {
   "display_name": "py39",
   "language": "python",
   "name": "py39"
  },
  "language_info": {
   "codemirror_mode": {
    "name": "ipython",
    "version": 3
   },
   "file_extension": ".py",
   "mimetype": "text/x-python",
   "name": "python",
   "nbconvert_exporter": "python",
   "pygments_lexer": "ipython3",
   "version": "3.9.13"
  }
 },
 "nbformat": 4,
 "nbformat_minor": 5
}
