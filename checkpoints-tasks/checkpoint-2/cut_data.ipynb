{
 "cells": [
  {
   "cell_type": "code",
   "execution_count": 1,
   "id": "1e5f5c64-f941-47b4-8ab0-80488e8bb92f",
   "metadata": {},
   "outputs": [],
   "source": [
    "import osmium \n",
    "import pandas as pd\n",
    "import geopandas as gpd\n",
    "import glob\n",
    "import os"
   ]
  },
  {
   "cell_type": "markdown",
   "id": "88f3c9e4-dac0-4020-acc6-f03cb94a9df9",
   "metadata": {},
   "source": [
    "[GeoFabric Russian Federal Districts](https://download.geofabrik.de/russia.html)"
   ]
  },
  {
   "cell_type": "code",
   "execution_count": 2,
   "id": "94cf032c-33c1-4f3a-a16a-1ff863f72355",
   "metadata": {},
   "outputs": [],
   "source": [
    "# Папка с дампами федеральных округов России из ссылки выше\n",
    "input_diles = glob.glob('/Users/maximgrinin/Downloads/*.osm.pbf')"
   ]
  },
  {
   "cell_type": "code",
   "execution_count": 3,
   "id": "d8b3dc43-5d8b-4391-ad86-1316c296141c",
   "metadata": {},
   "outputs": [],
   "source": [
    "# Список OSM тэгов\n",
    "tag_list = [\n",
    "    {'station': ['subway']},\n",
    "    {'highway': ['stop_position']},\n",
    "    {'government': ['administrative']},\n",
    "    {'amenity': ['college', 'university']},\n",
    "    {'amenity': ['school']},\n",
    "    {'amenity': ['kindergarten', 'childcare']},\n",
    "    {'amenity': ['bank']},\n",
    "    {'amenity': ['atm']},\n",
    "    {'amenity': ['hospital']},\n",
    "    {'office': ['company']},\n",
    "    {'amenity': ['cafe', 'fast_food', 'bar', 'pub', 'canteen']},\n",
    "    {'government': ['public_service']},\n",
    "    {'building': ['apartments']},\n",
    "    {'aeroway': ['aerodrome']},\n",
    "    {'railway': ['station']}\n",
    "]\n",
    "\n",
    "# Human-readable имена тегов \n",
    "tag_names = [\n",
    "    'subway',\n",
    "    'bus_stop',\n",
    "    'gov_building',\n",
    "    'college',\n",
    "    'school',\n",
    "    'kgarden',\n",
    "    'bank',\n",
    "    'atm',\n",
    "    'hospital',\n",
    "    'office',\n",
    "    'food',\n",
    "    'MFC',\n",
    "    'apartments',\n",
    "    'airport',\n",
    "    'railway'\n",
    "]\n",
    "\n",
    "tags = dict(zip(tag_names, tag_list))"
   ]
  },
  {
   "cell_type": "code",
   "execution_count": 4,
   "id": "619fda5b-3937-4e8b-bd09-08de08f12d62",
   "metadata": {},
   "outputs": [],
   "source": [
    "def get_osmium_script(initial_file, output_file, tags):\n",
    "    \n",
    "    '''Функция возвращает скрипт osmium-tool обрезающую pbf по листу тегов\n",
    "    \n",
    "    initial_file -- путь к целому pbf файлу\n",
    "    output_file --  название/путь файла обрезанного pbf файла \n",
    "    tags -- словарь с osm тегами\n",
    "    '''\n",
    "    \n",
    "    osmium_string = f'osmium tags-filter {initial_file} '\n",
    "    for name, tag in tags.items():\n",
    "        for key, value_list in tag.items():\n",
    "            if len(value_list) == 1:\n",
    "                osmium_string += r'n/{}={} '.format(key, value_list[0])\n",
    "            else:\n",
    "                for value in value_list:\n",
    "                    osmium_string += r'n/{}={} '.format(key, value)\n",
    "    osmium_string += f'-o {output_file}'\n",
    "    \n",
    "    return osmium_string"
   ]
  },
  {
   "cell_type": "code",
   "execution_count": 5,
   "id": "9037d38c-14de-411b-9b3a-e39817381b13",
   "metadata": {},
   "outputs": [],
   "source": [
    "# Собираем лист с путями к цельным pbf файлам\n",
    "input_files = glob.glob('/Users/maximgrinin/Downloads/full_pbf/*.osm.pbf')\n",
    "\n",
    "# Собираем скрипт для каждого файла из списка\n",
    "# Исполняем их и сохраняем обрезанные файлы в отдельную дерикторию fed_districts\n",
    "for file in input_files:\n",
    "    file_name = file.replace('/Users/maximgrinin/Downloads/full_pbf/', '')\n",
    "    os.system(get_osmium_script(file, 'fed_districts/cutted-{}'.format(file_name), tags))"
   ]
  },
  {
   "cell_type": "code",
   "execution_count": 6,
   "id": "657bea84-8a4c-4cf5-bfc8-623f3397a568",
   "metadata": {},
   "outputs": [],
   "source": [
    "# Создаем SimpleHandler для парсинга нужной информации из обрезанных pbf\n",
    "class OSMHandler(osmium.SimpleHandler):\n",
    "    def __init__(self):\n",
    "        super(OSMHandler, self).__init__()\n",
    "        self.infrastructure = []\n",
    "\n",
    "    def node(self, o):\n",
    "        for name, tag in tags.items():\n",
    "            for key, value_list in tag.items():\n",
    "                if len(value_list) == 1:\n",
    "                    if o.tags.get(key) == value_list[0]:\n",
    "                        self.infrastructure.append(\n",
    "                            [name, o.location.lon, o.location.lat]\n",
    "                        )\n",
    "                else:\n",
    "                    for value in value_list:\n",
    "                        if o.tags.get(key) == value:\n",
    "                            self.infrastructure.append(\n",
    "                                [name, o.location.lon, o.location.lat]\n",
    "                            )"
   ]
  },
  {
   "cell_type": "code",
   "execution_count": 10,
   "id": "80014a85-6735-4b1a-b4ef-fac7e92d7b70",
   "metadata": {},
   "outputs": [],
   "source": [
    "# Названия обрезанных pbf файлов\n",
    "osm_files = glob.glob('fed_districts/*.osm.pbf')\n",
    "\n",
    "# Инициализируем словарик геофреймов\n",
    "districts_gdfs = {}\n",
    "\n",
    "# Итерируем над обрезанными pbf файлами\n",
    "# Парсим из них инфо по тегам\n",
    "# Записываем в геофрейм и крепим к словарю\n",
    "for district in osm_files:\n",
    "    handler = OSMHandler()\n",
    "    handler.apply_file(district, locations=True)\n",
    "    df = pd.DataFrame(handler.infrastructure, columns=['type', 'lon', 'lat'])\n",
    "    gdf = gpd.GeoDataFrame(df, geometry=gpd.points_from_xy(df['lon'], df['lat']))\n",
    "    gdf.crs = 'EPSG:4326'\n",
    "    districts_gdfs[district.replace('fed_districts/', '').replace('-latest.osm.pbf', '')] = gdf"
   ]
  },
  {
   "cell_type": "code",
   "execution_count": 13,
   "id": "2a0b1ba0-3eb6-4d32-8226-c39b66548fb0",
   "metadata": {},
   "outputs": [],
   "source": [
    "# Сохраняем все в csv\n",
    "for name, gdf in districts_gdfs.items():\n",
    "    gdf.to_csv('fed_districts/' + name + '.csv')"
   ]
  }
 ],
 "metadata": {
  "kernelspec": {
   "display_name": "Python 3 (ipykernel)",
   "language": "python",
   "name": "python3"
  },
  "language_info": {
   "codemirror_mode": {
    "name": "ipython",
    "version": 3
   },
   "file_extension": ".py",
   "mimetype": "text/x-python",
   "name": "python",
   "nbconvert_exporter": "python",
   "pygments_lexer": "ipython3",
   "version": "3.9.7"
  }
 },
 "nbformat": 4,
 "nbformat_minor": 5
}
