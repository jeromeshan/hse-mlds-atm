{
 "cells": [
  {
   "cell_type": "code",
   "execution_count": 2,
   "id": "914b00c2-ab00-4445-b724-80aae4d551d4",
   "metadata": {},
   "outputs": [],
   "source": [
    "import pandas as pd\n",
    "import geopandas as gpd\n",
    "import numpy as np\n",
    "\n",
    "import matplotlib.pyplot as plt\n",
    "import seaborn as sns\n",
    "\n",
    "from sklearn.linear_model import Ridge, Lasso, ElasticNet\n",
    "from sklearn.ensemble import RandomForestRegressor\n",
    "from sklearn.neighbors import KNeighborsRegressor\n",
    "from catboost import CatBoostRegressor\n",
    "\n",
    "from sklearn.metrics import mean_squared_error\n",
    "from sklearn.metrics import mean_absolute_percentage_error\n",
    "from sklearn.model_selection import GridSearchCV\n",
    "\n",
    "\n",
    "import warnings\n",
    "warnings.filterwarnings('ignore')"
   ]
  },
  {
   "cell_type": "code",
   "execution_count": 22,
   "id": "3882ec54-e945-42ef-84ca-28e44bb56a5e",
   "metadata": {},
   "outputs": [],
   "source": [
    "X_train = pd.read_csv('../data/ohe-no-norm/X_train.csv')\n",
    "y_train = pd.read_csv('../data/ohe-no-norm/y_train.csv')\n",
    "X_test = pd.read_csv('../data/ohe-no-norm/X_test.csv')\n",
    "y_test = pd.read_csv('../data/ohe-no-norm/y_test.csv')"
   ]
  },
  {
   "cell_type": "code",
   "execution_count": 12,
   "id": "8ea353fe-c2e4-44a1-8753-316edbf29f7a",
   "metadata": {},
   "outputs": [
    {
     "name": "stdout",
     "output_type": "stream",
     "text": [
      "grid search best score:  -0.04653515391570824\n",
      "grid search best params:  {'alpha': 7.4}\n",
      "rmse ridge: 0.04754548498806861\n",
      "mape ridge: 3.5484002751761814\n"
     ]
    }
   ],
   "source": [
    "ridge = Ridge()\n",
    "\n",
    "parameters = {'alpha':np.arange(0.1,10,0.1)}\n",
    "\n",
    "gs = GridSearchCV(ridge, parameters, scoring='neg_root_mean_squared_error',cv=5)\n",
    "\n",
    "#fit the grid search\n",
    "gs.fit(X_train,y_train)\n",
    "\n",
    "# best estimator\n",
    "print('grid search best score: ',gs.best_score_)\n",
    "print('grid search best params: ',gs.best_params_)\n",
    "\n",
    "# best model\n",
    "best_model = gs.best_estimator_\n",
    "best_model.fit(X_train,y_train)\n",
    "print('rmse ridge:',mean_squared_error(y_test, best_model.predict(X_test), squared=False))\n",
    "print('mape ridge:',mean_absolute_percentage_error(y_test, best_model.predict(X_test)))\n"
   ]
  },
  {
   "cell_type": "code",
   "execution_count": 13,
   "id": "6355d628-b6a8-4774-87ea-f64493b500a2",
   "metadata": {},
   "outputs": [
    {
     "name": "stdout",
     "output_type": "stream",
     "text": [
      "grid search best score:  -0.0849191402214115\n",
      "grid search best params:  {'alpha': 0.1}\n",
      "rmse lasso: 0.08532239821726882\n",
      "mape lasso: 1.8663029131006683\n"
     ]
    }
   ],
   "source": [
    "lasso = Lasso()\n",
    "parameters = {'alpha':np.arange(0.1,10,0.1)}\n",
    "\n",
    "gs = GridSearchCV(lasso, parameters, scoring='neg_root_mean_squared_error',cv=5)\n",
    "\n",
    "#fit the grid search\n",
    "gs.fit(X_train,y_train)\n",
    "\n",
    "# best estimator\n",
    "print('grid search best score: ',gs.best_score_)\n",
    "print('grid search best params: ',gs.best_params_)\n",
    "\n",
    "# best model\n",
    "best_model = gs.best_estimator_\n",
    "best_model.fit(X_train,y_train)\n",
    "print('rmse lasso:',mean_squared_error(y_test, best_model.predict(X_test), squared=False))\n",
    "print('mape lasso:',mean_absolute_percentage_error(y_test, best_model.predict(X_test)))\n"
   ]
  },
  {
   "cell_type": "code",
   "execution_count": 14,
   "id": "8b4a4ad1-cf72-423b-87fb-caaf5f3b3454",
   "metadata": {},
   "outputs": [
    {
     "name": "stdout",
     "output_type": "stream",
     "text": [
      "grid search best score:  -0.08473846024974921\n",
      "grid search best params:  {'alpha': 0.1}\n",
      "rmse ElasticNet: 0.08509557859480246\n",
      "mape ElasticNet: 2.054141395257026\n"
     ]
    }
   ],
   "source": [
    "en = ElasticNet()\n",
    "parameters = {'alpha':np.arange(0.1,10,0.1)}\n",
    "\n",
    "gs = GridSearchCV(en, parameters, scoring='neg_root_mean_squared_error',cv=5)\n",
    "\n",
    "#fit the grid search\n",
    "gs.fit(X_train,y_train)\n",
    "\n",
    "# best estimator\n",
    "print('grid search best score: ',gs.best_score_)\n",
    "print('grid search best params: ',gs.best_params_)\n",
    "\n",
    "# best model\n",
    "best_model = gs.best_estimator_\n",
    "best_model.fit(X_train,y_train)\n",
    "print('rmse ElasticNet:',mean_squared_error(y_test, best_model.predict(X_test), squared=False))\n",
    "print('mape ElasticNet:',mean_absolute_percentage_error(y_test, best_model.predict(X_test)))\n"
   ]
  },
  {
   "cell_type": "code",
   "execution_count": 15,
   "id": "75e93908-bc79-4a1d-8b2f-f992ceac3028",
   "metadata": {
    "tags": []
   },
   "outputs": [
    {
     "name": "stdout",
     "output_type": "stream",
     "text": [
      "grid search best score:  -0.045330251797472146\n",
      "grid search best params:  {'max_depth': 7, 'min_samples_split': 2, 'n_estimators': 100}\n",
      "rmse random_forest: 0.045519647150819006\n",
      "mape random_forest: 3.6758298796294278\n"
     ]
    }
   ],
   "source": [
    "random_forest = RandomForestRegressor()\n",
    "parameters = {'n_estimators':[10,25,50,100],\n",
    "             'max_depth':[3,5,7],\n",
    "             'min_samples_split':[2,4,6]}\n",
    "\n",
    "gs = GridSearchCV(random_forest, parameters, scoring='neg_root_mean_squared_error',cv=5)\n",
    "\n",
    "#fit the grid search\n",
    "gs.fit(X_train,y_train)\n",
    "\n",
    "# best estimator\n",
    "print('grid search best score: ',gs.best_score_)\n",
    "print('grid search best params: ',gs.best_params_)\n",
    "\n",
    "# best model\n",
    "best_model = gs.best_estimator_\n",
    "best_model.fit(X_train,y_train)\n",
    "print('rmse random_forest:',mean_squared_error(y_test, best_model.predict(X_test), squared=False))\n",
    "print('mape random_forest:',mean_absolute_percentage_error(y_test, best_model.predict(X_test)))\n"
   ]
  },
  {
   "cell_type": "code",
   "execution_count": 16,
   "id": "2a3a0f6e-3fb8-4929-b17c-31d680a2ddda",
   "metadata": {},
   "outputs": [
    {
     "name": "stdout",
     "output_type": "stream",
     "text": [
      "grid search best score:  -0.0821502559870386\n",
      "grid search best params:  {'n_neighbors': 19}\n",
      "rmse knn: 0.08342843510491607\n",
      "mape knn: 3.00055230341957\n"
     ]
    }
   ],
   "source": [
    "knn = KNeighborsRegressor()\n",
    "parameters = {'n_neighbors':np.arange(1,20,1)}\n",
    "\n",
    "gs = GridSearchCV(knn, parameters, scoring='neg_root_mean_squared_error',cv=5)\n",
    "\n",
    "#fit the grid search\n",
    "gs.fit(X_train,y_train)\n",
    "\n",
    "# best estimator\n",
    "print('grid search best score: ',gs.best_score_)\n",
    "print('grid search best params: ',gs.best_params_)\n",
    "\n",
    "# best model\n",
    "best_model = gs.best_estimator_\n",
    "best_model.fit(X_train,y_train)\n",
    "print('rmse knn:',mean_squared_error(y_test, best_model.predict(X_test), squared=False))\n",
    "print('mape knn:',mean_absolute_percentage_error(y_test, best_model.predict(X_test)))\n"
   ]
  },
  {
   "cell_type": "code",
   "execution_count": 24,
   "id": "a70469ec-6b76-40ab-98ce-f73f3d97e70b",
   "metadata": {
    "collapsed": true,
    "jupyter": {
     "outputs_hidden": true
    },
    "tags": []
   },
   "outputs": [
    {
     "name": "stdout",
     "output_type": "stream",
     "text": [
      "\n",
      "bestTest = 0.04306794331\n",
      "bestIteration = 974\n",
      "\n",
      "\n",
      "bestTest = 0.04263949513\n",
      "bestIteration = 917\n",
      "\n",
      "\n",
      "bestTest = 0.04298825639\n",
      "bestIteration = 995\n",
      "\n",
      "\n",
      "bestTest = 0.04262821597\n",
      "bestIteration = 942\n",
      "\n",
      "\n",
      "bestTest = 0.04307191408\n",
      "bestIteration = 996\n",
      "\n",
      "\n",
      "bestTest = 0.04257856823\n",
      "bestIteration = 866\n",
      "\n",
      "\n",
      "bestTest = 0.0431308686\n",
      "bestIteration = 999\n",
      "\n",
      "\n",
      "bestTest = 0.04277343187\n",
      "bestIteration = 948\n",
      "\n",
      "\n",
      "bestTest = 0.04319301674\n",
      "bestIteration = 989\n",
      "\n",
      "\n",
      "bestTest = 0.04272281482\n",
      "bestIteration = 839\n",
      "\n",
      "\n",
      "bestTest = 0.04203939303\n",
      "bestIteration = 997\n",
      "\n",
      "\n",
      "bestTest = 0.04228163948\n",
      "bestIteration = 470\n",
      "\n",
      "\n",
      "bestTest = 0.04212042262\n",
      "bestIteration = 952\n",
      "\n",
      "\n",
      "bestTest = 0.04218086199\n",
      "bestIteration = 575\n",
      "\n",
      "\n",
      "bestTest = 0.04218394817\n",
      "bestIteration = 998\n",
      "\n",
      "\n",
      "bestTest = 0.04225569902\n",
      "bestIteration = 403\n",
      "\n",
      "\n",
      "bestTest = 0.04208810034\n",
      "bestIteration = 999\n",
      "\n",
      "\n",
      "bestTest = 0.04206202685\n",
      "bestIteration = 500\n",
      "\n",
      "\n",
      "bestTest = 0.04220094516\n",
      "bestIteration = 984\n",
      "\n",
      "\n",
      "bestTest = 0.04216146265\n",
      "bestIteration = 654\n",
      "\n",
      "\n",
      "bestTest = 0.04155535064\n",
      "bestIteration = 910\n",
      "\n",
      "\n",
      "bestTest = 0.04184631887\n",
      "bestIteration = 325\n",
      "\n",
      "\n",
      "bestTest = 0.041860661\n",
      "bestIteration = 886\n",
      "\n",
      "\n",
      "bestTest = 0.04186147164\n",
      "bestIteration = 306\n",
      "\n",
      "\n",
      "bestTest = 0.04181782847\n",
      "bestIteration = 949\n",
      "\n",
      "\n",
      "bestTest = 0.04204986406\n",
      "bestIteration = 414\n",
      "\n",
      "\n",
      "bestTest = 0.04186757286\n",
      "bestIteration = 999\n",
      "\n",
      "\n",
      "bestTest = 0.04215429647\n",
      "bestIteration = 412\n",
      "\n",
      "\n",
      "bestTest = 0.04160950918\n",
      "bestIteration = 999\n",
      "\n",
      "\n",
      "bestTest = 0.04205920319\n",
      "bestIteration = 579\n",
      "\n",
      "Training on fold [0/3]\n",
      "\n",
      "bestTest = 0.04476181996\n",
      "bestIteration = 749\n",
      "\n",
      "Training on fold [1/3]\n",
      "\n",
      "bestTest = 0.04394157683\n",
      "bestIteration = 972\n",
      "\n",
      "Training on fold [2/3]\n",
      "\n",
      "bestTest = 0.04374996598\n",
      "bestIteration = 896\n",
      "\n"
     ]
    }
   ],
   "source": [
    "cat = CatBoostRegressor(verbose = False,eval_metric = 'RMSE')\n",
    "grid = {'learning_rate': [0.03, 0.1],\n",
    "        'depth': [2, 4, 6],\n",
    "        'l2_leaf_reg': [1, 3, 5, 7, 9]}\n",
    "\n",
    "grid_search_result = cat.grid_search(grid, X=X_train, y=y_train,verbose = 0)"
   ]
  },
  {
   "cell_type": "code",
   "execution_count": 26,
   "id": "b69d96b3-8a7f-40df-a910-bee86085e86b",
   "metadata": {},
   "outputs": [
    {
     "data": {
      "text/plain": [
       "{'depth': 6, 'l2_leaf_reg': 1, 'learning_rate': 0.03}"
      ]
     },
     "execution_count": 26,
     "metadata": {},
     "output_type": "execute_result"
    }
   ],
   "source": [
    "grid_search_result['params']"
   ]
  },
  {
   "cell_type": "code",
   "execution_count": 27,
   "id": "7c4c4baf-e920-4558-91db-98ef9c6745b7",
   "metadata": {},
   "outputs": [
    {
     "name": "stdout",
     "output_type": "stream",
     "text": [
      "rmse cat: 0.04428824188345019\n",
      "mape cat: 2.506356036380934\n"
     ]
    }
   ],
   "source": [
    "cat = CatBoostRegressor(verbose = False,depth = 6,l2_leaf_reg = 1,learning_rate = 0.03)\n",
    "cat.fit(X_train,y_train)\n",
    "print('rmse cat:',mean_squared_error(y_test, cat.predict(X_test), squared=False))\n",
    "print('mape cat:',mean_absolute_percentage_error(y_test, cat.predict(X_test)))\n"
   ]
  },
  {
   "cell_type": "code",
   "execution_count": 32,
   "id": "4e12e9c7-e192-482f-a95e-05aba1785c38",
   "metadata": {},
   "outputs": [],
   "source": [
    "X_train = pd.read_csv('../data/no-ohe-no-norm/X_train.csv')\n",
    "y_train = pd.read_csv('../data/no-ohe-no-norm/y_train.csv')\n",
    "X_test = pd.read_csv('../data/no-ohe-no-norm/X_test.csv')\n",
    "y_test = pd.read_csv('../data/no-ohe-no-norm/y_test.csv')\n",
    "\n",
    "X_train['atm_group'] = X_train['atm_group'].astype(str)\n",
    "X_test['atm_group'] = X_test['atm_group'].astype(str)"
   ]
  },
  {
   "cell_type": "code",
   "execution_count": 33,
   "id": "caf94500-721f-4c2b-958b-cf0ed48e217e",
   "metadata": {
    "collapsed": true,
    "jupyter": {
     "outputs_hidden": true
    },
    "tags": []
   },
   "outputs": [
    {
     "name": "stdout",
     "output_type": "stream",
     "text": [
      "\n",
      "bestTest = 0.04254543078\n",
      "bestIteration = 886\n",
      "\n",
      "\n",
      "bestTest = 0.04232507816\n",
      "bestIteration = 666\n",
      "\n",
      "\n",
      "bestTest = 0.04251213447\n",
      "bestIteration = 980\n",
      "\n",
      "\n",
      "bestTest = 0.04220568475\n",
      "bestIteration = 995\n",
      "\n",
      "\n",
      "bestTest = 0.04246849911\n",
      "bestIteration = 998\n",
      "\n",
      "\n",
      "bestTest = 0.04234902501\n",
      "bestIteration = 635\n",
      "\n",
      "\n",
      "bestTest = 0.0425689036\n",
      "bestIteration = 998\n",
      "\n",
      "\n",
      "bestTest = 0.04233626867\n",
      "bestIteration = 634\n",
      "\n",
      "\n",
      "bestTest = 0.04251301867\n",
      "bestIteration = 999\n",
      "\n",
      "\n",
      "bestTest = 0.04241588345\n",
      "bestIteration = 999\n",
      "\n",
      "\n",
      "bestTest = 0.04156562005\n",
      "bestIteration = 978\n",
      "\n",
      "\n",
      "bestTest = 0.04158715193\n",
      "bestIteration = 788\n",
      "\n",
      "\n",
      "bestTest = 0.04155062122\n",
      "bestIteration = 992\n",
      "\n",
      "\n",
      "bestTest = 0.04164009054\n",
      "bestIteration = 855\n",
      "\n",
      "\n",
      "bestTest = 0.04169329101\n",
      "bestIteration = 941\n",
      "\n",
      "\n",
      "bestTest = 0.04175482847\n",
      "bestIteration = 673\n",
      "\n",
      "\n",
      "bestTest = 0.04171009811\n",
      "bestIteration = 999\n",
      "\n",
      "\n",
      "bestTest = 0.04174343478\n",
      "bestIteration = 919\n",
      "\n",
      "\n",
      "bestTest = 0.04178529222\n",
      "bestIteration = 999\n",
      "\n",
      "\n",
      "bestTest = 0.04163224356\n",
      "bestIteration = 634\n",
      "\n",
      "\n",
      "bestTest = 0.04122597759\n",
      "bestIteration = 983\n",
      "\n",
      "\n",
      "bestTest = 0.04163708941\n",
      "bestIteration = 323\n",
      "\n",
      "\n",
      "bestTest = 0.04100661577\n",
      "bestIteration = 965\n",
      "\n",
      "\n",
      "bestTest = 0.04119748523\n",
      "bestIteration = 463\n",
      "\n",
      "\n",
      "bestTest = 0.04112441804\n",
      "bestIteration = 986\n",
      "\n",
      "\n",
      "bestTest = 0.04145911305\n",
      "bestIteration = 292\n",
      "\n",
      "\n",
      "bestTest = 0.04109547922\n",
      "bestIteration = 941\n",
      "\n",
      "\n",
      "bestTest = 0.0413236242\n",
      "bestIteration = 396\n",
      "\n",
      "\n",
      "bestTest = 0.04145684051\n",
      "bestIteration = 960\n",
      "\n",
      "\n",
      "bestTest = 0.04136112202\n",
      "bestIteration = 216\n",
      "\n",
      "Training on fold [0/3]\n",
      "\n",
      "bestTest = 0.04497704959\n",
      "bestIteration = 934\n",
      "\n",
      "Training on fold [1/3]\n",
      "\n",
      "bestTest = 0.04434541931\n",
      "bestIteration = 996\n",
      "\n",
      "Training on fold [2/3]\n",
      "\n",
      "bestTest = 0.04361772699\n",
      "bestIteration = 890\n",
      "\n"
     ]
    }
   ],
   "source": [
    "cat = CatBoostRegressor(verbose = False,eval_metric = 'RMSE',cat_features= ['atm_group', 'region','fed_dist'])\n",
    "grid = {'learning_rate': [0.03, 0.1],\n",
    "        'depth': [2, 4, 6],\n",
    "        'l2_leaf_reg': [1, 3, 5, 7, 9]}\n",
    "\n",
    "grid_search_result = cat.grid_search(grid, X=X_train, y=y_train,verbose = 0)"
   ]
  },
  {
   "cell_type": "code",
   "execution_count": 34,
   "id": "cf4abf33-7516-44a5-9396-36ddf83e145b",
   "metadata": {},
   "outputs": [
    {
     "data": {
      "text/plain": [
       "{'depth': 6, 'l2_leaf_reg': 3, 'learning_rate': 0.03}"
      ]
     },
     "execution_count": 34,
     "metadata": {},
     "output_type": "execute_result"
    }
   ],
   "source": [
    "grid_search_result['params']"
   ]
  },
  {
   "cell_type": "code",
   "execution_count": 37,
   "id": "5689eb6d-5abc-4ea3-b27c-4f9e4ac63516",
   "metadata": {},
   "outputs": [
    {
     "name": "stdout",
     "output_type": "stream",
     "text": [
      "rmse cat: 0.044033041680083124\n",
      "mape cat: 2.7043993672656796\n"
     ]
    }
   ],
   "source": [
    "cat = CatBoostRegressor(verbose = False,eval_metric = 'RMSE',cat_features= ['atm_group', 'region','fed_dist'],depth = 6,l2_leaf_reg = 3,learning_rate = 0.03)\n",
    "cat.fit(X_train,y_train)\n",
    "print('rmse cat:',mean_squared_error(y_test, cat.predict(X_test), squared=False))\n",
    "print('mape cat:',mean_absolute_percentage_error(y_test, cat.predict(X_test)))\n"
   ]
  },
  {
   "cell_type": "code",
   "execution_count": null,
   "id": "25efada5-dbec-408a-9333-de31969c7889",
   "metadata": {},
   "outputs": [
    {
     "data": {
      "image/png": "[encoded data removed]",
      "text/plain": [
       "<Figure size 432x288 with 1 Axes>"
      ]
     },
     "metadata": {
      "needs_background": "light"
     },
     "output_type": "display_data"
    }
   ],
   "source": [
    "feat_importances = pd.Series(cat.feature_importances_, index=X_train.columns).nlargest(20).plot(kind='barh')\n"
   ]
  },
  {
   "cell_type": "code",
   "execution_count": null,
   "id": "532b67cf-2ed2-41d9-95fb-af44e65ce323",
   "metadata": {},
   "outputs": [],
   "source": []
  }
 ],
 "metadata": {
  "kernelspec": {
   "display_name": "py39",
   "language": "python",
   "name": "py39"
  },
  "language_info": {
   "codemirror_mode": {
    "name": "ipython",
    "version": 3
   },
   "file_extension": ".py",
   "mimetype": "text/x-python",
   "name": "python",
   "nbconvert_exporter": "python",
   "pygments_lexer": "ipython3",
   "version": "3.9.13"
  }
 },
 "nbformat": 4,
 "nbformat_minor": 5
}
